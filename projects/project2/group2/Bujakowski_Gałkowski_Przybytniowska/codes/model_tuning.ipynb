{
 "cells": [
  {
   "cell_type": "markdown",
   "metadata": {},
   "source": [
    "# Loading and preprocessing data"
   ]
  },
  {
   "cell_type": "code",
   "execution_count": 1,
   "metadata": {},
   "outputs": [
    {
     "data": {
      "text/html": [
       "<div>\n",
       "<style scoped>\n",
       "    .dataframe tbody tr th:only-of-type {\n",
       "        vertical-align: middle;\n",
       "    }\n",
       "\n",
       "    .dataframe tbody tr th {\n",
       "        vertical-align: top;\n",
       "    }\n",
       "\n",
       "    .dataframe thead th {\n",
       "        text-align: right;\n",
       "    }\n",
       "</style>\n",
       "<table border=\"1\" class=\"dataframe\">\n",
       "  <thead>\n",
       "    <tr style=\"text-align: right;\">\n",
       "      <th></th>\n",
       "      <th>0</th>\n",
       "      <th>1</th>\n",
       "      <th>2</th>\n",
       "      <th>3</th>\n",
       "      <th>4</th>\n",
       "      <th>5</th>\n",
       "      <th>6</th>\n",
       "      <th>7</th>\n",
       "      <th>8</th>\n",
       "      <th>9</th>\n",
       "      <th>...</th>\n",
       "      <th>490</th>\n",
       "      <th>491</th>\n",
       "      <th>492</th>\n",
       "      <th>493</th>\n",
       "      <th>494</th>\n",
       "      <th>495</th>\n",
       "      <th>496</th>\n",
       "      <th>497</th>\n",
       "      <th>498</th>\n",
       "      <th>499</th>\n",
       "    </tr>\n",
       "  </thead>\n",
       "  <tbody>\n",
       "    <tr>\n",
       "      <th>0</th>\n",
       "      <td>-2.619773</td>\n",
       "      <td>-2.619533</td>\n",
       "      <td>-1.199350</td>\n",
       "      <td>-1.083335</td>\n",
       "      <td>-1.000910</td>\n",
       "      <td>-0.366967</td>\n",
       "      <td>-2.164037</td>\n",
       "      <td>-1.210001</td>\n",
       "      <td>-0.658311</td>\n",
       "      <td>-1.489539</td>\n",
       "      <td>...</td>\n",
       "      <td>10.849925</td>\n",
       "      <td>10.343346</td>\n",
       "      <td>10.717519</td>\n",
       "      <td>7.709295</td>\n",
       "      <td>5.894554</td>\n",
       "      <td>12.416573</td>\n",
       "      <td>6.765269</td>\n",
       "      <td>16.243907</td>\n",
       "      <td>7.209524</td>\n",
       "      <td>8.082021</td>\n",
       "    </tr>\n",
       "    <tr>\n",
       "      <th>1</th>\n",
       "      <td>-1.415579</td>\n",
       "      <td>-1.782544</td>\n",
       "      <td>-2.880270</td>\n",
       "      <td>-1.958863</td>\n",
       "      <td>1.159968</td>\n",
       "      <td>0.273030</td>\n",
       "      <td>-1.628728</td>\n",
       "      <td>-0.175813</td>\n",
       "      <td>-0.916857</td>\n",
       "      <td>-0.570166</td>\n",
       "      <td>...</td>\n",
       "      <td>11.489417</td>\n",
       "      <td>5.195818</td>\n",
       "      <td>3.494627</td>\n",
       "      <td>5.529154</td>\n",
       "      <td>10.517576</td>\n",
       "      <td>15.697333</td>\n",
       "      <td>11.324938</td>\n",
       "      <td>12.187670</td>\n",
       "      <td>12.283861</td>\n",
       "      <td>5.032285</td>\n",
       "    </tr>\n",
       "    <tr>\n",
       "      <th>2</th>\n",
       "      <td>-2.745092</td>\n",
       "      <td>-1.382945</td>\n",
       "      <td>-1.626015</td>\n",
       "      <td>-1.282560</td>\n",
       "      <td>-0.663146</td>\n",
       "      <td>0.052349</td>\n",
       "      <td>-2.403322</td>\n",
       "      <td>-0.765073</td>\n",
       "      <td>-0.394354</td>\n",
       "      <td>-0.806624</td>\n",
       "      <td>...</td>\n",
       "      <td>13.934934</td>\n",
       "      <td>9.267515</td>\n",
       "      <td>4.705604</td>\n",
       "      <td>6.642557</td>\n",
       "      <td>14.658934</td>\n",
       "      <td>8.130767</td>\n",
       "      <td>7.194487</td>\n",
       "      <td>11.939354</td>\n",
       "      <td>11.653620</td>\n",
       "      <td>5.942778</td>\n",
       "    </tr>\n",
       "    <tr>\n",
       "      <th>3</th>\n",
       "      <td>0.618998</td>\n",
       "      <td>0.455364</td>\n",
       "      <td>-0.115081</td>\n",
       "      <td>0.649040</td>\n",
       "      <td>-0.862207</td>\n",
       "      <td>2.308504</td>\n",
       "      <td>0.526114</td>\n",
       "      <td>-1.094852</td>\n",
       "      <td>1.088656</td>\n",
       "      <td>-0.481210</td>\n",
       "      <td>...</td>\n",
       "      <td>12.021328</td>\n",
       "      <td>3.852231</td>\n",
       "      <td>11.059702</td>\n",
       "      <td>7.527268</td>\n",
       "      <td>7.253120</td>\n",
       "      <td>9.791136</td>\n",
       "      <td>6.089743</td>\n",
       "      <td>10.752796</td>\n",
       "      <td>5.778888</td>\n",
       "      <td>10.366363</td>\n",
       "    </tr>\n",
       "    <tr>\n",
       "      <th>4</th>\n",
       "      <td>-0.070694</td>\n",
       "      <td>-0.550509</td>\n",
       "      <td>-0.565556</td>\n",
       "      <td>-0.693065</td>\n",
       "      <td>-0.573089</td>\n",
       "      <td>-0.395862</td>\n",
       "      <td>0.003170</td>\n",
       "      <td>-0.981609</td>\n",
       "      <td>-0.505775</td>\n",
       "      <td>-0.758430</td>\n",
       "      <td>...</td>\n",
       "      <td>7.537788</td>\n",
       "      <td>11.229665</td>\n",
       "      <td>11.318915</td>\n",
       "      <td>6.622256</td>\n",
       "      <td>12.557882</td>\n",
       "      <td>5.520360</td>\n",
       "      <td>5.397359</td>\n",
       "      <td>13.152269</td>\n",
       "      <td>10.684779</td>\n",
       "      <td>9.816471</td>\n",
       "    </tr>\n",
       "  </tbody>\n",
       "</table>\n",
       "<p>5 rows × 500 columns</p>\n",
       "</div>"
      ],
      "text/plain": [
       "        0         1         2         3         4         5         6    \\\n",
       "0 -2.619773 -2.619533 -1.199350 -1.083335 -1.000910 -0.366967 -2.164037   \n",
       "1 -1.415579 -1.782544 -2.880270 -1.958863  1.159968  0.273030 -1.628728   \n",
       "2 -2.745092 -1.382945 -1.626015 -1.282560 -0.663146  0.052349 -2.403322   \n",
       "3  0.618998  0.455364 -0.115081  0.649040 -0.862207  2.308504  0.526114   \n",
       "4 -0.070694 -0.550509 -0.565556 -0.693065 -0.573089 -0.395862  0.003170   \n",
       "\n",
       "        7         8         9    ...        490        491        492  \\\n",
       "0 -1.210001 -0.658311 -1.489539  ...  10.849925  10.343346  10.717519   \n",
       "1 -0.175813 -0.916857 -0.570166  ...  11.489417   5.195818   3.494627   \n",
       "2 -0.765073 -0.394354 -0.806624  ...  13.934934   9.267515   4.705604   \n",
       "3 -1.094852  1.088656 -0.481210  ...  12.021328   3.852231  11.059702   \n",
       "4 -0.981609 -0.505775 -0.758430  ...   7.537788  11.229665  11.318915   \n",
       "\n",
       "        493        494        495        496        497        498        499  \n",
       "0  7.709295   5.894554  12.416573   6.765269  16.243907   7.209524   8.082021  \n",
       "1  5.529154  10.517576  15.697333  11.324938  12.187670  12.283861   5.032285  \n",
       "2  6.642557  14.658934   8.130767   7.194487  11.939354  11.653620   5.942778  \n",
       "3  7.527268   7.253120   9.791136   6.089743  10.752796   5.778888  10.366363  \n",
       "4  6.622256  12.557882   5.520360   5.397359  13.152269  10.684779   9.816471  \n",
       "\n",
       "[5 rows x 500 columns]"
      ]
     },
     "execution_count": 1,
     "metadata": {},
     "output_type": "execute_result"
    }
   ],
   "source": [
    "from pathlib import Path\n",
    "import pandas as pd\n",
    "\n",
    "data_dir = Path('./data')\n",
    "\n",
    "X = pd.read_csv(data_dir / \"x_train.txt\", sep=' ', header=None)\n",
    "y = pd.read_csv(data_dir / 'y_train.txt', sep=' ', header=None).values.ravel()\n",
    "\n",
    "X.head()"
   ]
  },
  {
   "cell_type": "code",
   "execution_count": 2,
   "metadata": {},
   "outputs": [
    {
     "data": {
      "text/html": [
       "<div>\n",
       "<style scoped>\n",
       "    .dataframe tbody tr th:only-of-type {\n",
       "        vertical-align: middle;\n",
       "    }\n",
       "\n",
       "    .dataframe tbody tr th {\n",
       "        vertical-align: top;\n",
       "    }\n",
       "\n",
       "    .dataframe thead th {\n",
       "        text-align: right;\n",
       "    }\n",
       "</style>\n",
       "<table border=\"1\" class=\"dataframe\">\n",
       "  <thead>\n",
       "    <tr style=\"text-align: right;\">\n",
       "      <th></th>\n",
       "      <th>0</th>\n",
       "      <th>2</th>\n",
       "      <th>10</th>\n",
       "      <th>11</th>\n",
       "      <th>12</th>\n",
       "      <th>13</th>\n",
       "      <th>14</th>\n",
       "      <th>15</th>\n",
       "      <th>16</th>\n",
       "      <th>17</th>\n",
       "      <th>...</th>\n",
       "      <th>490</th>\n",
       "      <th>491</th>\n",
       "      <th>492</th>\n",
       "      <th>493</th>\n",
       "      <th>494</th>\n",
       "      <th>495</th>\n",
       "      <th>496</th>\n",
       "      <th>497</th>\n",
       "      <th>498</th>\n",
       "      <th>499</th>\n",
       "    </tr>\n",
       "  </thead>\n",
       "  <tbody>\n",
       "    <tr>\n",
       "      <th>0</th>\n",
       "      <td>-2.619773</td>\n",
       "      <td>-1.199350</td>\n",
       "      <td>-0.358917</td>\n",
       "      <td>-0.012789</td>\n",
       "      <td>-1.374178</td>\n",
       "      <td>0.426893</td>\n",
       "      <td>-0.669405</td>\n",
       "      <td>-0.436644</td>\n",
       "      <td>1.699974</td>\n",
       "      <td>0.183398</td>\n",
       "      <td>...</td>\n",
       "      <td>10.849925</td>\n",
       "      <td>10.343346</td>\n",
       "      <td>10.717519</td>\n",
       "      <td>7.709295</td>\n",
       "      <td>5.894554</td>\n",
       "      <td>12.416573</td>\n",
       "      <td>6.765269</td>\n",
       "      <td>16.243907</td>\n",
       "      <td>7.209524</td>\n",
       "      <td>8.082021</td>\n",
       "    </tr>\n",
       "    <tr>\n",
       "      <th>1</th>\n",
       "      <td>-1.415579</td>\n",
       "      <td>-2.880270</td>\n",
       "      <td>0.925066</td>\n",
       "      <td>1.206087</td>\n",
       "      <td>-1.515144</td>\n",
       "      <td>-0.951352</td>\n",
       "      <td>0.465280</td>\n",
       "      <td>0.223653</td>\n",
       "      <td>1.068241</td>\n",
       "      <td>-0.210600</td>\n",
       "      <td>...</td>\n",
       "      <td>11.489417</td>\n",
       "      <td>5.195818</td>\n",
       "      <td>3.494627</td>\n",
       "      <td>5.529154</td>\n",
       "      <td>10.517576</td>\n",
       "      <td>15.697333</td>\n",
       "      <td>11.324938</td>\n",
       "      <td>12.187670</td>\n",
       "      <td>12.283861</td>\n",
       "      <td>5.032285</td>\n",
       "    </tr>\n",
       "    <tr>\n",
       "      <th>2</th>\n",
       "      <td>-2.745092</td>\n",
       "      <td>-1.626015</td>\n",
       "      <td>-0.497576</td>\n",
       "      <td>-0.556523</td>\n",
       "      <td>-0.962981</td>\n",
       "      <td>-0.428344</td>\n",
       "      <td>1.289329</td>\n",
       "      <td>-0.408108</td>\n",
       "      <td>1.109381</td>\n",
       "      <td>-1.023611</td>\n",
       "      <td>...</td>\n",
       "      <td>13.934934</td>\n",
       "      <td>9.267515</td>\n",
       "      <td>4.705604</td>\n",
       "      <td>6.642557</td>\n",
       "      <td>14.658934</td>\n",
       "      <td>8.130767</td>\n",
       "      <td>7.194487</td>\n",
       "      <td>11.939354</td>\n",
       "      <td>11.653620</td>\n",
       "      <td>5.942778</td>\n",
       "    </tr>\n",
       "  </tbody>\n",
       "</table>\n",
       "<p>3 rows × 492 columns</p>\n",
       "</div>"
      ],
      "text/plain": [
       "        0         2         10        11        12        13        14   \\\n",
       "0 -2.619773 -1.199350 -0.358917 -0.012789 -1.374178  0.426893 -0.669405   \n",
       "1 -1.415579 -2.880270  0.925066  1.206087 -1.515144 -0.951352  0.465280   \n",
       "2 -2.745092 -1.626015 -0.497576 -0.556523 -0.962981 -0.428344  1.289329   \n",
       "\n",
       "        15        16        17   ...        490        491        492  \\\n",
       "0 -0.436644  1.699974  0.183398  ...  10.849925  10.343346  10.717519   \n",
       "1  0.223653  1.068241 -0.210600  ...  11.489417   5.195818   3.494627   \n",
       "2 -0.408108  1.109381 -1.023611  ...  13.934934   9.267515   4.705604   \n",
       "\n",
       "        493        494        495        496        497        498       499  \n",
       "0  7.709295   5.894554  12.416573   6.765269  16.243907   7.209524  8.082021  \n",
       "1  5.529154  10.517576  15.697333  11.324938  12.187670  12.283861  5.032285  \n",
       "2  6.642557  14.658934   8.130767   7.194487  11.939354  11.653620  5.942778  \n",
       "\n",
       "[3 rows x 492 columns]"
      ]
     },
     "execution_count": 2,
     "metadata": {},
     "output_type": "execute_result"
    }
   ],
   "source": [
    "from src.utils import drop_highly_correlated_columns, calculate_score\n",
    "from src.feature_selection_methods import *\n",
    "\n",
    "from sklearn.preprocessing import MinMaxScaler\n",
    "\n",
    "to_drop = drop_highly_correlated_columns(X, threshold=0.8)\n",
    "X_dropped = X.drop(columns=to_drop)\n",
    "X_dropped.head(3)"
   ]
  },
  {
   "cell_type": "code",
   "execution_count": 3,
   "metadata": {},
   "outputs": [
    {
     "data": {
      "text/plain": [
       "(5000, 492)"
      ]
     },
     "execution_count": 3,
     "metadata": {},
     "output_type": "execute_result"
    }
   ],
   "source": [
    "scaler = MinMaxScaler()\n",
    "X_scaled = scaler.fit_transform(X_dropped)\n",
    "X = pd.DataFrame(X_scaled, columns=X_dropped.columns)\n",
    "X.shape"
   ]
  },
  {
   "cell_type": "code",
   "execution_count": 4,
   "metadata": {},
   "outputs": [
    {
     "data": {
      "text/html": [
       "<div>\n",
       "<style scoped>\n",
       "    .dataframe tbody tr th:only-of-type {\n",
       "        vertical-align: middle;\n",
       "    }\n",
       "\n",
       "    .dataframe tbody tr th {\n",
       "        vertical-align: top;\n",
       "    }\n",
       "\n",
       "    .dataframe thead th {\n",
       "        text-align: right;\n",
       "    }\n",
       "</style>\n",
       "<table border=\"1\" class=\"dataframe\">\n",
       "  <thead>\n",
       "    <tr style=\"text-align: right;\">\n",
       "      <th></th>\n",
       "      <th>0</th>\n",
       "      <th>2</th>\n",
       "      <th>10</th>\n",
       "      <th>11</th>\n",
       "      <th>12</th>\n",
       "      <th>13</th>\n",
       "      <th>14</th>\n",
       "      <th>15</th>\n",
       "      <th>16</th>\n",
       "      <th>17</th>\n",
       "      <th>...</th>\n",
       "      <th>490</th>\n",
       "      <th>491</th>\n",
       "      <th>492</th>\n",
       "      <th>493</th>\n",
       "      <th>494</th>\n",
       "      <th>495</th>\n",
       "      <th>496</th>\n",
       "      <th>497</th>\n",
       "      <th>498</th>\n",
       "      <th>499</th>\n",
       "    </tr>\n",
       "  </thead>\n",
       "  <tbody>\n",
       "    <tr>\n",
       "      <th>0</th>\n",
       "      <td>0.318998</td>\n",
       "      <td>0.452487</td>\n",
       "      <td>0.461214</td>\n",
       "      <td>0.463765</td>\n",
       "      <td>0.305080</td>\n",
       "      <td>0.549409</td>\n",
       "      <td>0.365262</td>\n",
       "      <td>0.444646</td>\n",
       "      <td>0.668241</td>\n",
       "      <td>0.552953</td>\n",
       "      <td>...</td>\n",
       "      <td>0.300022</td>\n",
       "      <td>0.269133</td>\n",
       "      <td>0.271933</td>\n",
       "      <td>0.217244</td>\n",
       "      <td>0.130859</td>\n",
       "      <td>0.380061</td>\n",
       "      <td>0.155309</td>\n",
       "      <td>0.503364</td>\n",
       "      <td>0.187288</td>\n",
       "      <td>0.236775</td>\n",
       "    </tr>\n",
       "    <tr>\n",
       "      <th>1</th>\n",
       "      <td>0.401994</td>\n",
       "      <td>0.332835</td>\n",
       "      <td>0.638022</td>\n",
       "      <td>0.635842</td>\n",
       "      <td>0.284538</td>\n",
       "      <td>0.355005</td>\n",
       "      <td>0.522587</td>\n",
       "      <td>0.542695</td>\n",
       "      <td>0.595727</td>\n",
       "      <td>0.498273</td>\n",
       "      <td>...</td>\n",
       "      <td>0.320193</td>\n",
       "      <td>0.116914</td>\n",
       "      <td>0.074722</td>\n",
       "      <td>0.144473</td>\n",
       "      <td>0.250728</td>\n",
       "      <td>0.485963</td>\n",
       "      <td>0.278602</td>\n",
       "      <td>0.367001</td>\n",
       "      <td>0.349922</td>\n",
       "      <td>0.140597</td>\n",
       "    </tr>\n",
       "    <tr>\n",
       "      <th>2</th>\n",
       "      <td>0.310361</td>\n",
       "      <td>0.422116</td>\n",
       "      <td>0.442120</td>\n",
       "      <td>0.387002</td>\n",
       "      <td>0.365002</td>\n",
       "      <td>0.428776</td>\n",
       "      <td>0.636842</td>\n",
       "      <td>0.448883</td>\n",
       "      <td>0.600449</td>\n",
       "      <td>0.385441</td>\n",
       "      <td>...</td>\n",
       "      <td>0.397331</td>\n",
       "      <td>0.237319</td>\n",
       "      <td>0.107786</td>\n",
       "      <td>0.181637</td>\n",
       "      <td>0.358109</td>\n",
       "      <td>0.241718</td>\n",
       "      <td>0.166915</td>\n",
       "      <td>0.358653</td>\n",
       "      <td>0.329722</td>\n",
       "      <td>0.169311</td>\n",
       "    </tr>\n",
       "  </tbody>\n",
       "</table>\n",
       "<p>3 rows × 492 columns</p>\n",
       "</div>"
      ],
      "text/plain": [
       "        0         2         10        11        12        13        14   \\\n",
       "0  0.318998  0.452487  0.461214  0.463765  0.305080  0.549409  0.365262   \n",
       "1  0.401994  0.332835  0.638022  0.635842  0.284538  0.355005  0.522587   \n",
       "2  0.310361  0.422116  0.442120  0.387002  0.365002  0.428776  0.636842   \n",
       "\n",
       "        15        16        17   ...       490       491       492       493  \\\n",
       "0  0.444646  0.668241  0.552953  ...  0.300022  0.269133  0.271933  0.217244   \n",
       "1  0.542695  0.595727  0.498273  ...  0.320193  0.116914  0.074722  0.144473   \n",
       "2  0.448883  0.600449  0.385441  ...  0.397331  0.237319  0.107786  0.181637   \n",
       "\n",
       "        494       495       496       497       498       499  \n",
       "0  0.130859  0.380061  0.155309  0.503364  0.187288  0.236775  \n",
       "1  0.250728  0.485963  0.278602  0.367001  0.349922  0.140597  \n",
       "2  0.358109  0.241718  0.166915  0.358653  0.329722  0.169311  \n",
       "\n",
       "[3 rows x 492 columns]"
      ]
     },
     "execution_count": 4,
     "metadata": {},
     "output_type": "execute_result"
    }
   ],
   "source": [
    "X.head(3)"
   ]
  },
  {
   "cell_type": "markdown",
   "metadata": {},
   "source": [
    "# Hyperparameter Tuning for Random Forest"
   ]
  },
  {
   "cell_type": "code",
   "execution_count": 5,
   "metadata": {},
   "outputs": [],
   "source": [
    "param_grid = {\n",
    "    'n_estimators': [90, 100, 110, 125, 140, 150, 160, 175, 200, 210, 225, 250],\n",
    "    'max_features': ['sqrt', 'log2'],\n",
    "    'class_weight': ['balanced_subsample', 'balanced', None],\n",
    "    'min_samples_split': [2, 3, 4, 5, 6, 7, 8, 10],\n",
    "    'min_samples_leaf': [1, 2, 4],\n",
    "}"
   ]
  },
  {
   "cell_type": "code",
   "execution_count": 6,
   "metadata": {},
   "outputs": [],
   "source": [
    "X_selected_indices = rf_feature_importance_selection(X, y, 6, True)\n",
    "X_selected = X.iloc[:, X_selected_indices]"
   ]
  },
  {
   "cell_type": "code",
   "execution_count": 7,
   "metadata": {},
   "outputs": [
    {
     "data": {
      "text/html": [
       "<div>\n",
       "<style scoped>\n",
       "    .dataframe tbody tr th:only-of-type {\n",
       "        vertical-align: middle;\n",
       "    }\n",
       "\n",
       "    .dataframe tbody tr th {\n",
       "        vertical-align: top;\n",
       "    }\n",
       "\n",
       "    .dataframe thead th {\n",
       "        text-align: right;\n",
       "    }\n",
       "</style>\n",
       "<table border=\"1\" class=\"dataframe\">\n",
       "  <thead>\n",
       "    <tr style=\"text-align: right;\">\n",
       "      <th></th>\n",
       "      <th>102</th>\n",
       "      <th>105</th>\n",
       "      <th>103</th>\n",
       "      <th>100</th>\n",
       "      <th>101</th>\n",
       "      <th>104</th>\n",
       "    </tr>\n",
       "  </thead>\n",
       "  <tbody>\n",
       "    <tr>\n",
       "      <th>0</th>\n",
       "      <td>0.524480</td>\n",
       "      <td>0.641478</td>\n",
       "      <td>0.478201</td>\n",
       "      <td>0.352511</td>\n",
       "      <td>0.590110</td>\n",
       "      <td>0.432938</td>\n",
       "    </tr>\n",
       "    <tr>\n",
       "      <th>1</th>\n",
       "      <td>0.639303</td>\n",
       "      <td>0.336821</td>\n",
       "      <td>0.752457</td>\n",
       "      <td>0.274799</td>\n",
       "      <td>0.563215</td>\n",
       "      <td>0.459157</td>\n",
       "    </tr>\n",
       "  </tbody>\n",
       "</table>\n",
       "</div>"
      ],
      "text/plain": [
       "        102       105       103       100       101       104\n",
       "0  0.524480  0.641478  0.478201  0.352511  0.590110  0.432938\n",
       "1  0.639303  0.336821  0.752457  0.274799  0.563215  0.459157"
      ]
     },
     "execution_count": 7,
     "metadata": {},
     "output_type": "execute_result"
    }
   ],
   "source": [
    "X_selected.head(2)"
   ]
  },
  {
   "cell_type": "code",
   "execution_count": 5,
   "metadata": {
    "scrolled": true
   },
   "outputs": [
    {
     "name": "stdout",
     "output_type": "stream",
     "text": [
      "Fitting 5 folds for each of 1728 candidates, totalling 8640 fits\n",
      "\n",
      "Grid search took: 13678.88\n",
      "\n",
      "\n"
     ]
    },
    {
     "data": {
      "text/plain": [
       "({'class_weight': 'balanced',\n",
       "  'max_features': 'sqrt',\n",
       "  'min_samples_leaf': 1,\n",
       "  'min_samples_split': 10,\n",
       "  'n_estimators': 100},\n",
       " 7323.727454909819)"
      ]
     },
     "execution_count": 5,
     "metadata": {},
     "output_type": "execute_result"
    }
   ],
   "source": [
    "from sklearn.model_selection import GridSearchCV\n",
    "from sklearn.metrics import make_scorer\n",
    "from time import time\n",
    "\n",
    "custom_scorer = make_scorer(calculate_score, greater_is_better=True)\n",
    "\n",
    "start_time = time()\n",
    "grid_search = GridSearchCV(RandomForestClassifier(random_state=42), param_grid, cv=5, scoring=custom_scorer, verbose=1)\n",
    "grid_search.fit(X_selected, y)\n",
    "fit_time = time() - start_time\n",
    "print(f'\\nGrid search took: {fit_time:.2f}\\n\\n')\n",
    "grid_search.best_params_, grid_search.best_score_"
   ]
  },
  {
   "cell_type": "code",
   "execution_count": 8,
   "metadata": {},
   "outputs": [
    {
     "data": {
      "text/plain": [
       "6123.727454909819"
      ]
     },
     "execution_count": 8,
     "metadata": {},
     "output_type": "execute_result"
    }
   ],
   "source": [
    "7323.727454909819 - 200*6"
   ]
  },
  {
   "cell_type": "markdown",
   "metadata": {},
   "source": [
    "Our best score after performing grid search is 6123.73."
   ]
  },
  {
   "cell_type": "markdown",
   "metadata": {},
   "source": [
    "#### saving best model and indices"
   ]
  },
  {
   "cell_type": "code",
   "execution_count": null,
   "metadata": {},
   "outputs": [],
   "source": [
    "import pickle\n",
    "import os\n",
    "import numpy as np\n",
    "\n",
    "best_rf = grid_search.best_estimator_\n",
    "\n",
    "save_path = 'tuning_results'\n",
    "if not os.path.exists(save_path):\n",
    "    os.mkdir(save_path)\n",
    "\n",
    "with open(f'{save_path}/best_rf_model.pkl', 'wb') as model_file:\n",
    "    pickle.dump(best_rf, model_file)\n",
    "\n",
    "np.save(f'{save_path}/selected_feature_indices.npy', X_selected_indices)"
   ]
  },
  {
   "cell_type": "markdown",
   "metadata": {},
   "source": [
    "#### loading best model and indices"
   ]
  },
  {
   "cell_type": "code",
   "execution_count": 20,
   "metadata": {},
   "outputs": [],
   "source": [
    "with open(f'{save_path}/best_rf_model.pkl', 'rb') as model_file:\n",
    "    best_rf_loaded = pickle.load(model_file)\n",
    "\n",
    "X_selected_indices_loaded = np.load(f'{save_path}/selected_feature_indices.npy')\n",
    "X_selected_reproduced = X[:, X_selected_indices_loaded]"
   ]
  },
  {
   "cell_type": "markdown",
   "metadata": {},
   "source": [
    "# Hyperparameter Tuning for SVC"
   ]
  },
  {
   "cell_type": "code",
   "execution_count": 9,
   "metadata": {},
   "outputs": [],
   "source": [
    "param_grid_svc = {\n",
    "    'C': [0.1, 1, 10, 100],\n",
    "    'kernel': ['linear', 'poly', 'rbf', 'sigmoid'],\n",
    "    'gamma': ['scale', 'auto'],\n",
    "}"
   ]
  },
  {
   "cell_type": "code",
   "execution_count": 6,
   "metadata": {
    "scrolled": true
   },
   "outputs": [
    {
     "name": "stdout",
     "output_type": "stream",
     "text": [
      "Fitting 5 folds for each of 32 candidates, totalling 160 fits\n",
      "[CV] END ..................C=0.1, gamma=scale, kernel=linear; total time=   0.2s\n",
      "[CV] END ..................C=0.1, gamma=scale, kernel=linear; total time=   0.2s\n",
      "[CV] END ..................C=0.1, gamma=scale, kernel=linear; total time=   0.2s\n",
      "[CV] END ..................C=0.1, gamma=scale, kernel=linear; total time=   0.2s\n",
      "[CV] END ..................C=0.1, gamma=scale, kernel=linear; total time=   0.2s\n",
      "[CV] END ....................C=0.1, gamma=scale, kernel=poly; total time=   1.3s\n",
      "[CV] END ....................C=0.1, gamma=scale, kernel=poly; total time=   1.2s\n",
      "[CV] END ....................C=0.1, gamma=scale, kernel=poly; total time=   1.3s\n",
      "[CV] END ....................C=0.1, gamma=scale, kernel=poly; total time=   1.2s\n",
      "[CV] END ....................C=0.1, gamma=scale, kernel=poly; total time=   1.3s\n",
      "[CV] END .....................C=0.1, gamma=scale, kernel=rbf; total time=   0.5s\n",
      "[CV] END .....................C=0.1, gamma=scale, kernel=rbf; total time=   0.5s\n",
      "[CV] END .....................C=0.1, gamma=scale, kernel=rbf; total time=   0.5s\n",
      "[CV] END .....................C=0.1, gamma=scale, kernel=rbf; total time=   0.5s\n",
      "[CV] END .....................C=0.1, gamma=scale, kernel=rbf; total time=   0.5s\n",
      "[CV] END .................C=0.1, gamma=scale, kernel=sigmoid; total time=   0.6s\n",
      "[CV] END .................C=0.1, gamma=scale, kernel=sigmoid; total time=   0.6s\n",
      "[CV] END .................C=0.1, gamma=scale, kernel=sigmoid; total time=   0.7s\n",
      "[CV] END .................C=0.1, gamma=scale, kernel=sigmoid; total time=   0.6s\n",
      "[CV] END .................C=0.1, gamma=scale, kernel=sigmoid; total time=   0.6s\n",
      "[CV] END ...................C=0.1, gamma=auto, kernel=linear; total time=   0.2s\n",
      "[CV] END ...................C=0.1, gamma=auto, kernel=linear; total time=   0.2s\n",
      "[CV] END ...................C=0.1, gamma=auto, kernel=linear; total time=   0.2s\n",
      "[CV] END ...................C=0.1, gamma=auto, kernel=linear; total time=   0.2s\n",
      "[CV] END ...................C=0.1, gamma=auto, kernel=linear; total time=   0.2s\n",
      "[CV] END .....................C=0.1, gamma=auto, kernel=poly; total time=   0.3s\n",
      "[CV] END .....................C=0.1, gamma=auto, kernel=poly; total time=   0.2s\n",
      "[CV] END .....................C=0.1, gamma=auto, kernel=poly; total time=   0.2s\n",
      "[CV] END .....................C=0.1, gamma=auto, kernel=poly; total time=   0.3s\n",
      "[CV] END .....................C=0.1, gamma=auto, kernel=poly; total time=   0.2s\n",
      "[CV] END ......................C=0.1, gamma=auto, kernel=rbf; total time=   0.6s\n",
      "[CV] END ......................C=0.1, gamma=auto, kernel=rbf; total time=   0.6s\n",
      "[CV] END ......................C=0.1, gamma=auto, kernel=rbf; total time=   0.6s\n",
      "[CV] END ......................C=0.1, gamma=auto, kernel=rbf; total time=   0.6s\n",
      "[CV] END ......................C=0.1, gamma=auto, kernel=rbf; total time=   0.6s\n",
      "[CV] END ..................C=0.1, gamma=auto, kernel=sigmoid; total time=   0.4s\n",
      "[CV] END ..................C=0.1, gamma=auto, kernel=sigmoid; total time=   0.4s\n",
      "[CV] END ..................C=0.1, gamma=auto, kernel=sigmoid; total time=   0.3s\n",
      "[CV] END ..................C=0.1, gamma=auto, kernel=sigmoid; total time=   0.3s\n",
      "[CV] END ..................C=0.1, gamma=auto, kernel=sigmoid; total time=   0.3s\n",
      "[CV] END ....................C=1, gamma=scale, kernel=linear; total time=   0.2s\n",
      "[CV] END ....................C=1, gamma=scale, kernel=linear; total time=   0.2s\n",
      "[CV] END ....................C=1, gamma=scale, kernel=linear; total time=   0.2s\n",
      "[CV] END ....................C=1, gamma=scale, kernel=linear; total time=   0.2s\n",
      "[CV] END ....................C=1, gamma=scale, kernel=linear; total time=   0.2s\n",
      "[CV] END ......................C=1, gamma=scale, kernel=poly; total time=   8.8s\n",
      "[CV] END ......................C=1, gamma=scale, kernel=poly; total time=   8.1s\n",
      "[CV] END ......................C=1, gamma=scale, kernel=poly; total time=   8.4s\n",
      "[CV] END ......................C=1, gamma=scale, kernel=poly; total time=   8.4s\n",
      "[CV] END ......................C=1, gamma=scale, kernel=poly; total time=   9.4s\n",
      "[CV] END .......................C=1, gamma=scale, kernel=rbf; total time=   0.4s\n",
      "[CV] END .......................C=1, gamma=scale, kernel=rbf; total time=   0.4s\n",
      "[CV] END .......................C=1, gamma=scale, kernel=rbf; total time=   0.5s\n",
      "[CV] END .......................C=1, gamma=scale, kernel=rbf; total time=   0.4s\n",
      "[CV] END .......................C=1, gamma=scale, kernel=rbf; total time=   0.5s\n",
      "[CV] END ...................C=1, gamma=scale, kernel=sigmoid; total time=   0.6s\n",
      "[CV] END ...................C=1, gamma=scale, kernel=sigmoid; total time=   0.6s\n",
      "[CV] END ...................C=1, gamma=scale, kernel=sigmoid; total time=   0.6s\n",
      "[CV] END ...................C=1, gamma=scale, kernel=sigmoid; total time=   0.6s\n",
      "[CV] END ...................C=1, gamma=scale, kernel=sigmoid; total time=   0.6s\n",
      "[CV] END .....................C=1, gamma=auto, kernel=linear; total time=   0.2s\n",
      "[CV] END .....................C=1, gamma=auto, kernel=linear; total time=   0.2s\n",
      "[CV] END .....................C=1, gamma=auto, kernel=linear; total time=   0.2s\n",
      "[CV] END .....................C=1, gamma=auto, kernel=linear; total time=   0.2s\n",
      "[CV] END .....................C=1, gamma=auto, kernel=linear; total time=   0.2s\n",
      "[CV] END .......................C=1, gamma=auto, kernel=poly; total time=   0.2s\n",
      "[CV] END .......................C=1, gamma=auto, kernel=poly; total time=   0.2s\n",
      "[CV] END .......................C=1, gamma=auto, kernel=poly; total time=   0.2s\n",
      "[CV] END .......................C=1, gamma=auto, kernel=poly; total time=   0.2s\n",
      "[CV] END .......................C=1, gamma=auto, kernel=poly; total time=   0.2s\n",
      "[CV] END ........................C=1, gamma=auto, kernel=rbf; total time=   0.6s\n",
      "[CV] END ........................C=1, gamma=auto, kernel=rbf; total time=   0.6s\n",
      "[CV] END ........................C=1, gamma=auto, kernel=rbf; total time=   0.6s\n",
      "[CV] END ........................C=1, gamma=auto, kernel=rbf; total time=   0.6s\n",
      "[CV] END ........................C=1, gamma=auto, kernel=rbf; total time=   0.6s\n",
      "[CV] END ....................C=1, gamma=auto, kernel=sigmoid; total time=   0.4s\n",
      "[CV] END ....................C=1, gamma=auto, kernel=sigmoid; total time=   0.3s\n",
      "[CV] END ....................C=1, gamma=auto, kernel=sigmoid; total time=   0.4s\n",
      "[CV] END ....................C=1, gamma=auto, kernel=sigmoid; total time=   0.4s\n",
      "[CV] END ....................C=1, gamma=auto, kernel=sigmoid; total time=   0.3s\n",
      "[CV] END ...................C=10, gamma=scale, kernel=linear; total time=   0.2s\n",
      "[CV] END ...................C=10, gamma=scale, kernel=linear; total time=   0.3s\n",
      "[CV] END ...................C=10, gamma=scale, kernel=linear; total time=   0.3s\n",
      "[CV] END ...................C=10, gamma=scale, kernel=linear; total time=   0.3s\n",
      "[CV] END ...................C=10, gamma=scale, kernel=linear; total time=   0.3s\n",
      "[CV] END .....................C=10, gamma=scale, kernel=poly; total time= 1.4min\n",
      "[CV] END .....................C=10, gamma=scale, kernel=poly; total time= 1.4min\n",
      "[CV] END .....................C=10, gamma=scale, kernel=poly; total time= 1.3min\n",
      "[CV] END .....................C=10, gamma=scale, kernel=poly; total time= 1.2min\n",
      "[CV] END .....................C=10, gamma=scale, kernel=poly; total time= 1.3min\n",
      "[CV] END ......................C=10, gamma=scale, kernel=rbf; total time=   0.6s\n",
      "[CV] END ......................C=10, gamma=scale, kernel=rbf; total time=   0.6s\n",
      "[CV] END ......................C=10, gamma=scale, kernel=rbf; total time=   0.6s\n",
      "[CV] END ......................C=10, gamma=scale, kernel=rbf; total time=   0.7s\n",
      "[CV] END ......................C=10, gamma=scale, kernel=rbf; total time=   0.6s\n",
      "[CV] END ..................C=10, gamma=scale, kernel=sigmoid; total time=   0.6s\n",
      "[CV] END ..................C=10, gamma=scale, kernel=sigmoid; total time=   0.6s\n",
      "[CV] END ..................C=10, gamma=scale, kernel=sigmoid; total time=   0.6s\n",
      "[CV] END ..................C=10, gamma=scale, kernel=sigmoid; total time=   0.6s\n",
      "[CV] END ..................C=10, gamma=scale, kernel=sigmoid; total time=   0.6s\n",
      "[CV] END ....................C=10, gamma=auto, kernel=linear; total time=   0.2s\n",
      "[CV] END ....................C=10, gamma=auto, kernel=linear; total time=   0.3s\n",
      "[CV] END ....................C=10, gamma=auto, kernel=linear; total time=   0.3s\n",
      "[CV] END ....................C=10, gamma=auto, kernel=linear; total time=   0.3s\n",
      "[CV] END ....................C=10, gamma=auto, kernel=linear; total time=   0.3s\n",
      "[CV] END ......................C=10, gamma=auto, kernel=poly; total time=   0.3s\n",
      "[CV] END ......................C=10, gamma=auto, kernel=poly; total time=   0.2s\n",
      "[CV] END ......................C=10, gamma=auto, kernel=poly; total time=   0.2s\n",
      "[CV] END ......................C=10, gamma=auto, kernel=poly; total time=   0.2s\n",
      "[CV] END ......................C=10, gamma=auto, kernel=poly; total time=   0.2s\n",
      "[CV] END .......................C=10, gamma=auto, kernel=rbf; total time=   0.6s\n",
      "[CV] END .......................C=10, gamma=auto, kernel=rbf; total time=   0.5s\n",
      "[CV] END .......................C=10, gamma=auto, kernel=rbf; total time=   0.5s\n",
      "[CV] END .......................C=10, gamma=auto, kernel=rbf; total time=   0.6s\n",
      "[CV] END .......................C=10, gamma=auto, kernel=rbf; total time=   0.5s\n",
      "[CV] END ...................C=10, gamma=auto, kernel=sigmoid; total time=   0.4s\n",
      "[CV] END ...................C=10, gamma=auto, kernel=sigmoid; total time=   0.4s\n",
      "[CV] END ...................C=10, gamma=auto, kernel=sigmoid; total time=   0.4s\n",
      "[CV] END ...................C=10, gamma=auto, kernel=sigmoid; total time=   0.4s\n",
      "[CV] END ...................C=10, gamma=auto, kernel=sigmoid; total time=   0.4s\n",
      "[CV] END ..................C=100, gamma=scale, kernel=linear; total time=   0.4s\n",
      "[CV] END ..................C=100, gamma=scale, kernel=linear; total time=   0.5s\n",
      "[CV] END ..................C=100, gamma=scale, kernel=linear; total time=   0.5s\n",
      "[CV] END ..................C=100, gamma=scale, kernel=linear; total time=   0.5s\n",
      "[CV] END ..................C=100, gamma=scale, kernel=linear; total time=   0.5s\n",
      "[CV] END ....................C=100, gamma=scale, kernel=poly; total time=10.8min\n",
      "[CV] END ....................C=100, gamma=scale, kernel=poly; total time=11.0min\n",
      "[CV] END ....................C=100, gamma=scale, kernel=poly; total time= 8.6min\n",
      "[CV] END ....................C=100, gamma=scale, kernel=poly; total time=10.6min\n",
      "[CV] END ....................C=100, gamma=scale, kernel=poly; total time=13.3min\n",
      "[CV] END .....................C=100, gamma=scale, kernel=rbf; total time=   1.7s\n",
      "[CV] END .....................C=100, gamma=scale, kernel=rbf; total time=   1.7s\n",
      "[CV] END .....................C=100, gamma=scale, kernel=rbf; total time=   1.8s\n",
      "[CV] END .....................C=100, gamma=scale, kernel=rbf; total time=   1.7s\n",
      "[CV] END .....................C=100, gamma=scale, kernel=rbf; total time=   1.7s\n",
      "[CV] END .................C=100, gamma=scale, kernel=sigmoid; total time=   0.6s\n",
      "[CV] END .................C=100, gamma=scale, kernel=sigmoid; total time=   0.6s\n",
      "[CV] END .................C=100, gamma=scale, kernel=sigmoid; total time=   0.6s\n",
      "[CV] END .................C=100, gamma=scale, kernel=sigmoid; total time=   0.6s\n",
      "[CV] END .................C=100, gamma=scale, kernel=sigmoid; total time=   0.6s\n",
      "[CV] END ...................C=100, gamma=auto, kernel=linear; total time=   0.5s\n",
      "[CV] END ...................C=100, gamma=auto, kernel=linear; total time=   0.5s\n",
      "[CV] END ...................C=100, gamma=auto, kernel=linear; total time=   0.5s\n",
      "[CV] END ...................C=100, gamma=auto, kernel=linear; total time=   0.5s\n",
      "[CV] END ...................C=100, gamma=auto, kernel=linear; total time=   0.5s\n",
      "[CV] END .....................C=100, gamma=auto, kernel=poly; total time=   0.2s\n",
      "[CV] END .....................C=100, gamma=auto, kernel=poly; total time=   0.2s\n",
      "[CV] END .....................C=100, gamma=auto, kernel=poly; total time=   0.2s\n",
      "[CV] END .....................C=100, gamma=auto, kernel=poly; total time=   0.2s\n",
      "[CV] END .....................C=100, gamma=auto, kernel=poly; total time=   0.2s\n",
      "[CV] END ......................C=100, gamma=auto, kernel=rbf; total time=   0.5s\n",
      "[CV] END ......................C=100, gamma=auto, kernel=rbf; total time=   0.5s\n",
      "[CV] END ......................C=100, gamma=auto, kernel=rbf; total time=   0.5s\n",
      "[CV] END ......................C=100, gamma=auto, kernel=rbf; total time=   0.5s\n",
      "[CV] END ......................C=100, gamma=auto, kernel=rbf; total time=   0.5s\n",
      "[CV] END ..................C=100, gamma=auto, kernel=sigmoid; total time=   0.4s\n",
      "[CV] END ..................C=100, gamma=auto, kernel=sigmoid; total time=   0.4s\n",
      "[CV] END ..................C=100, gamma=auto, kernel=sigmoid; total time=   0.5s\n",
      "[CV] END ..................C=100, gamma=auto, kernel=sigmoid; total time=   0.4s\n",
      "[CV] END ..................C=100, gamma=auto, kernel=sigmoid; total time=   0.4s\n",
      "\n",
      "Grid search took: 3788.47 seconds\n",
      "\n",
      "Best parameters: {'C': 0.1, 'gamma': 'scale', 'kernel': 'rbf'}\n",
      "Best score: 7283.583166332665\n"
     ]
    }
   ],
   "source": [
    "from sklearn.svm import SVC\n",
    "from sklearn.model_selection import GridSearchCV\n",
    "from sklearn.metrics import make_scorer\n",
    "from time import time\n",
    "\n",
    "custom_scorer = make_scorer(calculate_score, greater_is_better=True)\n",
    "\n",
    "start_time = time()\n",
    "grid_search_svc = GridSearchCV(SVC(random_state=42), param_grid_svc, cv=5, scoring=custom_scorer, verbose=2)\n",
    "grid_search_svc.fit(X_selected, y)\n",
    "fit_time = time() - start_time\n",
    "\n",
    "print(f'\\nGrid search took: {fit_time:.2f} seconds\\n')\n",
    "print('Best parameters:', grid_search_svc.best_params_)\n",
    "print('Best score:', grid_search_svc.best_score_)"
   ]
  },
  {
   "cell_type": "code",
   "execution_count": 10,
   "metadata": {},
   "outputs": [
    {
     "data": {
      "text/plain": [
       "6083.58"
      ]
     },
     "execution_count": 10,
     "metadata": {},
     "output_type": "execute_result"
    }
   ],
   "source": [
    "7283.58 - 6*200"
   ]
  },
  {
   "cell_type": "markdown",
   "metadata": {},
   "source": [
    "For the SVM it is 6083.58, thus we decided to stay with the $\\texttt{RandomForest}$."
   ]
  },
  {
   "cell_type": "markdown",
   "metadata": {},
   "source": [
    "#### saving best model and indices"
   ]
  },
  {
   "cell_type": "code",
   "execution_count": 9,
   "metadata": {},
   "outputs": [],
   "source": [
    "import pickle\n",
    "import os\n",
    "import numpy as np\n",
    "\n",
    "best_svc = grid_search_svc.best_estimator_\n",
    "\n",
    "save_path = 'tuning_results'\n",
    "if not os.path.exists(save_path):\n",
    "    os.mkdir(save_path)\n",
    "\n",
    "with open(f'{save_path}/best_svc_model.pkl', 'wb') as model_file:\n",
    "    pickle.dump(best_svc, model_file)"
   ]
  },
  {
   "cell_type": "markdown",
   "metadata": {},
   "source": [
    "#### loading best model and indices"
   ]
  },
  {
   "cell_type": "code",
   "execution_count": 10,
   "metadata": {},
   "outputs": [],
   "source": [
    "Load the best model\n",
    "with open(f'{save_path}/best_svc_model.pkl', 'rb') as model_file:\n",
    "    best_svc_loaded = pickle.load(model_file)"
   ]
  },
  {
   "cell_type": "markdown",
   "metadata": {},
   "source": [
    "# Best model calibration + test data prediction"
   ]
  },
  {
   "cell_type": "code",
   "execution_count": 11,
   "metadata": {},
   "outputs": [
    {
     "data": {
      "text/plain": [
       "(5000, 492)"
      ]
     },
     "execution_count": 11,
     "metadata": {},
     "output_type": "execute_result"
    }
   ],
   "source": [
    "X_test = pd.read_csv(data_dir / 'x_test.txt', sep=' ', header=None)\n",
    "X_test = X_test.drop(columns=to_drop)\n",
    "X_test.shape"
   ]
  },
  {
   "cell_type": "code",
   "execution_count": 12,
   "metadata": {},
   "outputs": [
    {
     "data": {
      "text/html": [
       "<div>\n",
       "<style scoped>\n",
       "    .dataframe tbody tr th:only-of-type {\n",
       "        vertical-align: middle;\n",
       "    }\n",
       "\n",
       "    .dataframe tbody tr th {\n",
       "        vertical-align: top;\n",
       "    }\n",
       "\n",
       "    .dataframe thead th {\n",
       "        text-align: right;\n",
       "    }\n",
       "</style>\n",
       "<table border=\"1\" class=\"dataframe\">\n",
       "  <thead>\n",
       "    <tr style=\"text-align: right;\">\n",
       "      <th></th>\n",
       "      <th>102</th>\n",
       "      <th>105</th>\n",
       "      <th>103</th>\n",
       "      <th>100</th>\n",
       "      <th>101</th>\n",
       "      <th>104</th>\n",
       "    </tr>\n",
       "  </thead>\n",
       "  <tbody>\n",
       "    <tr>\n",
       "      <th>0</th>\n",
       "      <td>0.402212</td>\n",
       "      <td>0.480637</td>\n",
       "      <td>0.531483</td>\n",
       "      <td>0.661018</td>\n",
       "      <td>0.490534</td>\n",
       "      <td>0.448892</td>\n",
       "    </tr>\n",
       "    <tr>\n",
       "      <th>1</th>\n",
       "      <td>0.458229</td>\n",
       "      <td>0.749308</td>\n",
       "      <td>0.495020</td>\n",
       "      <td>0.608295</td>\n",
       "      <td>0.361313</td>\n",
       "      <td>0.674319</td>\n",
       "    </tr>\n",
       "  </tbody>\n",
       "</table>\n",
       "</div>"
      ],
      "text/plain": [
       "        102       105       103       100       101       104\n",
       "0  0.402212  0.480637  0.531483  0.661018  0.490534  0.448892\n",
       "1  0.458229  0.749308  0.495020  0.608295  0.361313  0.674319"
      ]
     },
     "execution_count": 12,
     "metadata": {},
     "output_type": "execute_result"
    }
   ],
   "source": [
    "X_test_scaled = scaler.transform(X_test)\n",
    "X_test = pd.DataFrame(X_test_scaled, columns=X_dropped.columns)\n",
    "X_test_selected = X_test.iloc[:, X_selected_indices]\n",
    "X_test_selected.head(2)"
   ]
  },
  {
   "cell_type": "markdown",
   "metadata": {},
   "source": [
    "We calibrate the model to have probabilities that are reliably representative of the true probabilities."
   ]
  },
  {
   "cell_type": "code",
   "execution_count": 17,
   "metadata": {},
   "outputs": [],
   "source": [
    "from sklearn.calibration import CalibratedClassifierCV\n",
    "\n",
    "# best_rf = grid_search.best_estimator_\n",
    "\n",
    "with open(f'{save_path}/best_rf_model.pkl', 'rb') as model_file:\n",
    "    best_rf = pickle.load(model_file)\n",
    "\n",
    "best_rf.fit(X_selected, y)\n",
    "calibration = CalibratedClassifierCV(best_rf, cv='prefit')\n",
    "calibration.fit(X_selected, y)\n",
    "results = calibration.predict_proba(X_test_selected)"
   ]
  },
  {
   "cell_type": "markdown",
   "metadata": {},
   "source": [
    "--------------------------------------------------------------------------------"
   ]
  },
  {
   "cell_type": "code",
   "execution_count": 18,
   "metadata": {},
   "outputs": [],
   "source": [
    "results = pd.DataFrame(results)\n",
    "results.reset_index(inplace=True)\n",
    "results.sort_values(by=1, ascending=False, inplace=True)"
   ]
  },
  {
   "cell_type": "code",
   "execution_count": 19,
   "metadata": {},
   "outputs": [
    {
     "data": {
      "text/plain": [
       "prediction\n",
       "0    4000\n",
       "1    1000\n",
       "Name: count, dtype: int64"
      ]
     },
     "execution_count": 19,
     "metadata": {},
     "output_type": "execute_result"
    }
   ],
   "source": [
    "def set_first_1000_rows(df, column_name):\n",
    "    df[column_name] = 0\n",
    "    col_index = df.columns.get_loc(column_name)\n",
    "    df.iloc[:1000, col_index] = 1\n",
    "    return df\n",
    "\n",
    "results = set_first_1000_rows(results, 'prediction')\n",
    "results.prediction.value_counts()"
   ]
  },
  {
   "cell_type": "code",
   "execution_count": 20,
   "metadata": {},
   "outputs": [
    {
     "name": "stdout",
     "output_type": "stream",
     "text": [
      "[2, 4, 6, 12, 19, 33, 39, 44, 57, 61]\n"
     ]
    }
   ],
   "source": [
    "clients_to_offer = sorted(results.loc[results.prediction == 1, :].index)\n",
    "clients_to_offer = [idx + 1 for idx in clients_to_offer]\n",
    "print(clients_to_offer[:10])"
   ]
  },
  {
   "cell_type": "code",
   "execution_count": 21,
   "metadata": {},
   "outputs": [],
   "source": [
    "with open(\"313342_obs.txt\", \"w\") as file:\n",
    "    for item in clients_to_offer:\n",
    "        file.write(f\"{item}\\n\")"
   ]
  },
  {
   "cell_type": "code",
   "execution_count": 22,
   "metadata": {},
   "outputs": [
    {
     "data": {
      "text/plain": [
       "[103, 106, 104, 101, 102, 105]"
      ]
     },
     "execution_count": 22,
     "metadata": {},
     "output_type": "execute_result"
    }
   ],
   "source": [
    "feature_indexes = [idx + 1 for idx in X_selected.columns] # taking columns as indicies aren't valid (because they are after removing correlated columns)\n",
    "feature_indexes"
   ]
  },
  {
   "cell_type": "code",
   "execution_count": 23,
   "metadata": {},
   "outputs": [],
   "source": [
    "with open(\"313342_vars.txt\", \"w\") as file:\n",
    "    for item in feature_indexes:\n",
    "        file.write(f\"{item}\\n\")"
   ]
  }
 ],
 "metadata": {
  "kernelspec": {
   "display_name": "Python 3 (ipykernel)",
   "language": "python",
   "name": "python3"
  },
  "language_info": {
   "codemirror_mode": {
    "name": "ipython",
    "version": 3
   },
   "file_extension": ".py",
   "mimetype": "text/x-python",
   "name": "python",
   "nbconvert_exporter": "python",
   "pygments_lexer": "ipython3",
   "version": "3.11.8"
  }
 },
 "nbformat": 4,
 "nbformat_minor": 4
}
