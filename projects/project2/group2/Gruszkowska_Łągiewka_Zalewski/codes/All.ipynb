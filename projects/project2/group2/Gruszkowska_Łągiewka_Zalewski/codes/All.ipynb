{
 "cells": [
  {
   "cell_type": "code",
   "execution_count": 38,
   "id": "initial_id",
   "metadata": {
    "collapsed": true,
    "ExecuteTime": {
     "end_time": "2024-06-03T14:46:26.593625Z",
     "start_time": "2024-06-03T14:46:26.571957Z"
    }
   },
   "outputs": [],
   "source": [
    "from sklearn.metrics import accuracy_score\n",
    "import numpy as np\n",
    "import pandas as pd\n",
    "from sklearn.model_selection import train_test_split\n",
    "from sklearn.feature_selection import SelectFromModel\n",
    "from matplotlib import pyplot as plt\n",
    "from sklearn.naive_bayes import GaussianNB\n",
    "from utils import calculate_income_1000_customers\n",
    "from sklearn.ensemble import RandomForestClassifier\n",
    "from sklearn.ensemble import ExtraTreesClassifier\n",
    "from sklearn.svm import SVC"
   ]
  },
  {
   "cell_type": "code",
   "execution_count": 11,
   "outputs": [],
   "source": [
    "np.random.seed(0)\n",
    "X = pd.read_csv('data/x_train.txt', sep=' ', header=None).to_numpy()\n",
    "y = pd.read_csv('data/y_train.txt', sep=' ', header=None).to_numpy().ravel()\n",
    "\n",
    "TRAIN_SIZE = 0.8\n",
    "T = 0.008\n",
    "ITER = 100"
   ],
   "metadata": {
    "collapsed": false,
    "ExecuteTime": {
     "end_time": "2024-06-03T13:17:40.818100Z",
     "start_time": "2024-06-03T13:17:40.590168Z"
    }
   },
   "id": "79c89cfb3c9d4872"
  },
  {
   "cell_type": "markdown",
   "source": [
    "## Random Forest + Naive Bayes "
   ],
   "metadata": {
    "collapsed": false
   },
   "id": "e539a08e16f3208a"
  },
  {
   "cell_type": "code",
   "execution_count": 12,
   "outputs": [
    {
     "name": "stdout",
     "output_type": "stream",
     "text": [
      "Iteration 0\n",
      "Iteration 1\n",
      "Iteration 2\n",
      "Iteration 3\n",
      "Iteration 4\n",
      "Iteration 5\n",
      "Iteration 6\n",
      "Iteration 7\n",
      "Iteration 8\n",
      "Iteration 9\n",
      "Iteration 10\n",
      "Iteration 11\n",
      "Iteration 12\n",
      "Iteration 13\n",
      "Iteration 14\n",
      "Iteration 15\n",
      "Iteration 16\n",
      "Iteration 17\n",
      "Iteration 18\n",
      "Iteration 19\n",
      "Iteration 20\n",
      "Iteration 21\n",
      "Iteration 22\n",
      "Iteration 23\n",
      "Iteration 24\n",
      "Iteration 25\n",
      "Iteration 26\n",
      "Iteration 27\n",
      "Iteration 28\n",
      "Iteration 29\n",
      "Iteration 30\n",
      "Iteration 31\n",
      "Iteration 32\n",
      "Iteration 33\n",
      "Iteration 34\n",
      "Iteration 35\n",
      "Iteration 36\n",
      "Iteration 37\n",
      "Iteration 38\n",
      "Iteration 39\n",
      "Iteration 40\n",
      "Iteration 41\n",
      "Iteration 42\n",
      "Iteration 43\n",
      "Iteration 44\n",
      "Iteration 45\n",
      "Iteration 46\n",
      "Iteration 47\n",
      "Iteration 48\n",
      "Iteration 49\n",
      "Iteration 50\n",
      "Iteration 51\n",
      "Iteration 52\n",
      "Iteration 53\n",
      "Iteration 54\n",
      "Iteration 55\n",
      "Iteration 56\n",
      "Iteration 57\n",
      "Iteration 58\n",
      "Iteration 59\n",
      "Iteration 60\n",
      "Iteration 61\n",
      "Iteration 62\n",
      "Iteration 63\n",
      "Iteration 64\n",
      "Iteration 65\n",
      "Iteration 66\n",
      "Iteration 67\n",
      "Iteration 68\n",
      "Iteration 69\n",
      "Iteration 70\n",
      "Iteration 71\n",
      "Iteration 72\n",
      "Iteration 73\n",
      "Iteration 74\n",
      "Iteration 75\n",
      "Iteration 76\n",
      "Iteration 77\n",
      "Iteration 78\n",
      "Iteration 79\n",
      "Iteration 80\n",
      "Iteration 81\n",
      "Iteration 82\n",
      "Iteration 83\n",
      "Iteration 84\n",
      "Iteration 85\n",
      "Iteration 86\n",
      "Iteration 87\n",
      "Iteration 88\n",
      "Iteration 89\n",
      "Iteration 90\n",
      "Iteration 91\n",
      "Iteration 92\n",
      "Iteration 93\n",
      "Iteration 94\n",
      "Iteration 95\n",
      "Iteration 96\n",
      "Iteration 97\n",
      "Iteration 98\n",
      "Iteration 99\n"
     ]
    }
   ],
   "source": [
    "accuracies_RF_NB = []\n",
    "accuracies_top_RF_NB = []\n",
    "income_RF_NB = []\n",
    "selected_features_RF_NB = []\n",
    "\n",
    "selector = SelectFromModel(RandomForestClassifier(), threshold=T)\n",
    "model = GaussianNB()\n",
    "\n",
    "for i in range(ITER):\n",
    "    print(\"Iteration\", i)\n",
    "    X_train, X_test, y_train, y_test = train_test_split(X, y, train_size=TRAIN_SIZE, shuffle=True)\n",
    "    \n",
    "    fit = selector.fit(X, y)\n",
    "    selected = fit.get_support(indices=True)\n",
    "    \n",
    "    selected_features_RF_NB.append(selected)\n",
    "    \n",
    "    model.fit(X_train[:, selected], y_train)\n",
    "    y_pred = model.predict(X_test[:, selected])\n",
    "    y_proba = model.predict_proba(X_test[:, selected])\n",
    "    \n",
    "    accuracies_top_RF_NB.append(calculate_income_1000_customers(len(selected), y_proba=y_proba, y_true=y_test, y_pred=y_pred)[0]) \n",
    "    income_RF_NB.append(calculate_income_1000_customers(len(selected), y_proba=y_proba, y_true=y_test, y_pred=y_pred)[1])\n",
    "    \n",
    "    accuracies_RF_NB.append(accuracy_score(y_test, y_pred)) "
   ],
   "metadata": {
    "collapsed": false,
    "ExecuteTime": {
     "end_time": "2024-06-03T13:31:00.108673Z",
     "start_time": "2024-06-03T13:17:41.509186Z"
    }
   },
   "id": "5d40e04637ac0853"
  },
  {
   "cell_type": "code",
   "execution_count": 13,
   "outputs": [],
   "source": [
    "avg_accuracies_RF_NB = [np.mean(accuracies_RF_NB)]\n",
    "avg_accuracies_top_RF_NB = [np.mean(accuracies_top_RF_NB)]\n",
    "avg_income_RF_NB = [np.mean(income_RF_NB)]"
   ],
   "metadata": {
    "collapsed": false,
    "ExecuteTime": {
     "end_time": "2024-06-03T13:31:31.828145Z",
     "start_time": "2024-06-03T13:31:31.798240Z"
    }
   },
   "id": "ffd0d80a5420b3c"
  },
  {
   "cell_type": "code",
   "execution_count": 14,
   "outputs": [
    {
     "data": {
      "text/plain": "[6863.0]"
     },
     "execution_count": 14,
     "metadata": {},
     "output_type": "execute_result"
    }
   ],
   "source": [
    "avg_income_RF_NB"
   ],
   "metadata": {
    "collapsed": false,
    "ExecuteTime": {
     "end_time": "2024-06-03T13:31:32.647884Z",
     "start_time": "2024-06-03T13:31:32.636191Z"
    }
   },
   "id": "8af73135e7f7696f"
  },
  {
   "cell_type": "markdown",
   "source": [
    "## Random Forest"
   ],
   "metadata": {
    "collapsed": false
   },
   "id": "d297bdc00ce21ae5"
  },
  {
   "cell_type": "code",
   "execution_count": 17,
   "outputs": [],
   "source": [
    "np.random.seed(0)"
   ],
   "metadata": {
    "collapsed": false,
    "ExecuteTime": {
     "end_time": "2024-06-03T13:32:08.144259Z",
     "start_time": "2024-06-03T13:32:08.133931Z"
    }
   },
   "id": "7b37a96094092718"
  },
  {
   "cell_type": "code",
   "execution_count": 18,
   "outputs": [
    {
     "name": "stdout",
     "output_type": "stream",
     "text": [
      "Iteration 0\n",
      "Iteration 1\n",
      "Iteration 2\n",
      "Iteration 3\n",
      "Iteration 4\n",
      "Iteration 5\n",
      "Iteration 6\n",
      "Iteration 7\n",
      "Iteration 8\n",
      "Iteration 9\n",
      "Iteration 10\n",
      "Iteration 11\n",
      "Iteration 12\n",
      "Iteration 13\n",
      "Iteration 14\n",
      "Iteration 15\n",
      "Iteration 16\n",
      "Iteration 17\n",
      "Iteration 18\n",
      "Iteration 19\n",
      "Iteration 20\n",
      "Iteration 21\n",
      "Iteration 22\n",
      "Iteration 23\n",
      "Iteration 24\n",
      "Iteration 25\n",
      "Iteration 26\n",
      "Iteration 27\n",
      "Iteration 28\n",
      "Iteration 29\n",
      "Iteration 30\n",
      "Iteration 31\n",
      "Iteration 32\n",
      "Iteration 33\n",
      "Iteration 34\n",
      "Iteration 35\n",
      "Iteration 36\n",
      "Iteration 37\n",
      "Iteration 38\n",
      "Iteration 39\n",
      "Iteration 40\n",
      "Iteration 41\n",
      "Iteration 42\n",
      "Iteration 43\n",
      "Iteration 44\n",
      "Iteration 45\n",
      "Iteration 46\n",
      "Iteration 47\n",
      "Iteration 48\n",
      "Iteration 49\n",
      "Iteration 50\n",
      "Iteration 51\n",
      "Iteration 52\n",
      "Iteration 53\n",
      "Iteration 54\n",
      "Iteration 55\n",
      "Iteration 56\n",
      "Iteration 57\n",
      "Iteration 58\n",
      "Iteration 59\n",
      "Iteration 60\n",
      "Iteration 61\n",
      "Iteration 62\n",
      "Iteration 63\n",
      "Iteration 64\n",
      "Iteration 65\n",
      "Iteration 66\n",
      "Iteration 67\n",
      "Iteration 68\n",
      "Iteration 69\n",
      "Iteration 70\n",
      "Iteration 71\n",
      "Iteration 72\n",
      "Iteration 73\n",
      "Iteration 74\n",
      "Iteration 75\n",
      "Iteration 76\n",
      "Iteration 77\n",
      "Iteration 78\n",
      "Iteration 79\n",
      "Iteration 80\n",
      "Iteration 81\n",
      "Iteration 82\n",
      "Iteration 83\n",
      "Iteration 84\n",
      "Iteration 85\n",
      "Iteration 86\n",
      "Iteration 87\n",
      "Iteration 88\n",
      "Iteration 89\n",
      "Iteration 90\n",
      "Iteration 91\n",
      "Iteration 92\n",
      "Iteration 93\n",
      "Iteration 94\n",
      "Iteration 95\n",
      "Iteration 96\n",
      "Iteration 97\n",
      "Iteration 98\n",
      "Iteration 99\n"
     ]
    }
   ],
   "source": [
    "accuracies_RF = []\n",
    "accuracies_top_RF = []\n",
    "income_RF = []\n",
    "selected_features_RF = []\n",
    "\n",
    "selector = SelectFromModel(RandomForestClassifier(), threshold=T)\n",
    "model = RandomForestClassifier()\n",
    "\n",
    "for i in range(ITER):\n",
    "    print(\"Iteration\", i)\n",
    "    X_train, X_test, y_train, y_test = train_test_split(X, y, train_size=TRAIN_SIZE, shuffle=True)\n",
    "    \n",
    "    fit = selector.fit(X, y)\n",
    "    selected = fit.get_support(indices=True)\n",
    "    \n",
    "    selected_features_RF.append(selected)\n",
    "    \n",
    "    model.fit(X_train[:, selected], y_train)\n",
    "    y_pred = model.predict(X_test[:, selected])\n",
    "    y_proba = model.predict_proba(X_test[:, selected])\n",
    "    \n",
    "    accuracies_top_RF.append(calculate_income_1000_customers(len(selected), y_proba=y_proba, y_true=y_test, y_pred=y_pred)[0]) \n",
    "    income_RF.append(calculate_income_1000_customers(len(selected), y_proba=y_proba, y_true=y_test, y_pred=y_pred)[1])\n",
    "    accuracies_RF.append(accuracy_score(y_test, y_pred)) "
   ],
   "metadata": {
    "collapsed": false,
    "ExecuteTime": {
     "end_time": "2024-06-03T13:46:28.671424Z",
     "start_time": "2024-06-03T13:32:08.622881Z"
    }
   },
   "id": "4a1e148f83386d28"
  },
  {
   "cell_type": "code",
   "execution_count": 20,
   "outputs": [],
   "source": [
    "avg_accuracies_RF = [np.mean(accuracies_RF)]\n",
    "avg_accuracies_top_RF = [np.mean(accuracies_top_RF)]\n",
    "avg_income_RF = [np.mean(income_RF)]"
   ],
   "metadata": {
    "collapsed": false,
    "ExecuteTime": {
     "end_time": "2024-06-03T13:47:43.988020Z",
     "start_time": "2024-06-03T13:47:43.970522Z"
    }
   },
   "id": "ca44367fde8a2493"
  },
  {
   "cell_type": "code",
   "execution_count": 21,
   "outputs": [
    {
     "data": {
      "text/plain": "[6270.0]"
     },
     "execution_count": 21,
     "metadata": {},
     "output_type": "execute_result"
    }
   ],
   "source": [
    "avg_income_RF"
   ],
   "metadata": {
    "collapsed": false,
    "ExecuteTime": {
     "end_time": "2024-06-03T13:47:44.402036Z",
     "start_time": "2024-06-03T13:47:44.390684Z"
    }
   },
   "id": "32badbcee013244c"
  },
  {
   "cell_type": "markdown",
   "source": [
    "## Random Forest + Extra Tree"
   ],
   "metadata": {
    "collapsed": false
   },
   "id": "bc3f32d3dda93015"
  },
  {
   "cell_type": "code",
   "execution_count": 22,
   "outputs": [],
   "source": [
    "np.random.seed(0)"
   ],
   "metadata": {
    "collapsed": false,
    "ExecuteTime": {
     "end_time": "2024-06-03T13:47:58.901987Z",
     "start_time": "2024-06-03T13:47:58.887795Z"
    }
   },
   "id": "71005bd404ff74f2"
  },
  {
   "cell_type": "code",
   "execution_count": 23,
   "outputs": [
    {
     "name": "stdout",
     "output_type": "stream",
     "text": [
      "Iteration 0\n",
      "Iteration 1\n",
      "Iteration 2\n",
      "Iteration 3\n",
      "Iteration 4\n",
      "Iteration 5\n",
      "Iteration 6\n",
      "Iteration 7\n",
      "Iteration 8\n",
      "Iteration 9\n",
      "Iteration 10\n",
      "Iteration 11\n",
      "Iteration 12\n",
      "Iteration 13\n",
      "Iteration 14\n",
      "Iteration 15\n",
      "Iteration 16\n",
      "Iteration 17\n",
      "Iteration 18\n",
      "Iteration 19\n",
      "Iteration 20\n",
      "Iteration 21\n",
      "Iteration 22\n",
      "Iteration 23\n",
      "Iteration 24\n",
      "Iteration 25\n",
      "Iteration 26\n",
      "Iteration 27\n",
      "Iteration 28\n",
      "Iteration 29\n",
      "Iteration 30\n",
      "Iteration 31\n",
      "Iteration 32\n",
      "Iteration 33\n",
      "Iteration 34\n",
      "Iteration 35\n",
      "Iteration 36\n",
      "Iteration 37\n",
      "Iteration 38\n",
      "Iteration 39\n",
      "Iteration 40\n",
      "Iteration 41\n",
      "Iteration 42\n",
      "Iteration 43\n",
      "Iteration 44\n",
      "Iteration 45\n",
      "Iteration 46\n",
      "Iteration 47\n",
      "Iteration 48\n",
      "Iteration 49\n",
      "Iteration 50\n",
      "Iteration 51\n",
      "Iteration 52\n",
      "Iteration 53\n",
      "Iteration 54\n",
      "Iteration 55\n",
      "Iteration 56\n",
      "Iteration 57\n",
      "Iteration 58\n",
      "Iteration 59\n",
      "Iteration 60\n",
      "Iteration 61\n",
      "Iteration 62\n",
      "Iteration 63\n",
      "Iteration 64\n",
      "Iteration 65\n",
      "Iteration 66\n",
      "Iteration 67\n",
      "Iteration 68\n",
      "Iteration 69\n",
      "Iteration 70\n",
      "Iteration 71\n",
      "Iteration 72\n",
      "Iteration 73\n",
      "Iteration 74\n",
      "Iteration 75\n",
      "Iteration 76\n",
      "Iteration 77\n",
      "Iteration 78\n",
      "Iteration 79\n",
      "Iteration 80\n",
      "Iteration 81\n",
      "Iteration 82\n",
      "Iteration 83\n",
      "Iteration 84\n",
      "Iteration 85\n",
      "Iteration 86\n",
      "Iteration 87\n",
      "Iteration 88\n",
      "Iteration 89\n",
      "Iteration 90\n",
      "Iteration 91\n",
      "Iteration 92\n",
      "Iteration 93\n",
      "Iteration 94\n",
      "Iteration 95\n",
      "Iteration 96\n",
      "Iteration 97\n",
      "Iteration 98\n",
      "Iteration 99\n"
     ]
    }
   ],
   "source": [
    "accuracies_RF_ET = []\n",
    "accuracies_top_RF_ET = []\n",
    "income_RF_ET = []\n",
    "selected_features_RF_ET = []\n",
    "\n",
    "selector = SelectFromModel(RandomForestClassifier(), threshold=T)\n",
    "\n",
    "model = ExtraTreesClassifier(bootstrap=False, criterion=\"gini\", max_features=0.9500000000000001, min_samples_leaf=7, min_samples_split=2, n_estimators=100)\n",
    "\n",
    "for i in range(ITER):\n",
    "    print(\"Iteration\", i)\n",
    "    X_train, X_test, y_train, y_test = train_test_split(X, y, train_size=TRAIN_SIZE, shuffle=True)    \n",
    "    \n",
    "    fit = selector.fit(X, y)\n",
    "    selected = fit.get_support(indices=True)\n",
    "    selected_features_RF_ET.append(selected)\n",
    "    \n",
    "    model.fit(X_train[:, selected], y_train)\n",
    "    y_pred = model.predict(X_test[:, selected])\n",
    "    y_proba = model.predict_proba(X_test[:, selected])\n",
    "    \n",
    "    accuracies_top_RF_ET.append(calculate_income_1000_customers(len(selected), y_proba=y_proba, y_true=y_test, y_pred=y_pred)[0]) \n",
    "    income_RF_ET.append(calculate_income_1000_customers(len(selected), y_proba=y_proba, y_true=y_test, y_pred=y_pred)[1])\n",
    "    accuracies_RF_ET.append(accuracy_score(y_test, y_pred)) "
   ],
   "metadata": {
    "collapsed": false,
    "ExecuteTime": {
     "end_time": "2024-06-03T14:01:34.998437Z",
     "start_time": "2024-06-03T13:47:59.447029Z"
    }
   },
   "id": "f15b2aee9721d258"
  },
  {
   "cell_type": "code",
   "execution_count": 24,
   "outputs": [],
   "source": [
    "avg_accuracies_RF_ET = [np.mean(accuracies_RF_ET)]\n",
    "avg_accuracies_top_RF_ET = [np.mean(accuracies_top_RF_ET)]\n",
    "avg_income_RF_ET = [np.mean(income_RF_ET)]"
   ],
   "metadata": {
    "collapsed": false,
    "ExecuteTime": {
     "end_time": "2024-06-03T14:01:37.507872Z",
     "start_time": "2024-06-03T14:01:37.484970Z"
    }
   },
   "id": "b450fe7c1491301a"
  },
  {
   "cell_type": "code",
   "execution_count": 25,
   "outputs": [
    {
     "data": {
      "text/plain": "[6640.5]"
     },
     "execution_count": 25,
     "metadata": {},
     "output_type": "execute_result"
    }
   ],
   "source": [
    "avg_income_RF_ET"
   ],
   "metadata": {
    "collapsed": false,
    "ExecuteTime": {
     "end_time": "2024-06-03T14:01:38.050454Z",
     "start_time": "2024-06-03T14:01:38.038309Z"
    }
   },
   "id": "887c89a4920a8fc7"
  },
  {
   "cell_type": "markdown",
   "source": [
    "## Extra Tree"
   ],
   "metadata": {
    "collapsed": false
   },
   "id": "85942679cd240ba7"
  },
  {
   "cell_type": "code",
   "execution_count": 51,
   "outputs": [],
   "source": [
    "np.random.seed(0)"
   ],
   "metadata": {
    "collapsed": false,
    "ExecuteTime": {
     "end_time": "2024-06-03T15:40:07.470891Z",
     "start_time": "2024-06-03T15:40:07.447315Z"
    }
   },
   "id": "37ae057b49b3aa83"
  },
  {
   "cell_type": "code",
   "execution_count": 52,
   "outputs": [
    {
     "name": "stdout",
     "output_type": "stream",
     "text": [
      "Iteration 0\n",
      "Iteration 1\n",
      "Iteration 2\n",
      "Iteration 3\n",
      "Iteration 4\n",
      "Iteration 5\n",
      "Iteration 6\n",
      "Iteration 7\n",
      "Iteration 8\n",
      "Iteration 9\n",
      "Iteration 10\n",
      "Iteration 11\n",
      "Iteration 12\n",
      "Iteration 13\n",
      "Iteration 14\n",
      "Iteration 15\n",
      "Iteration 16\n",
      "Iteration 17\n",
      "Iteration 18\n",
      "Iteration 19\n",
      "Iteration 20\n",
      "Iteration 21\n",
      "Iteration 22\n",
      "Iteration 23\n",
      "Iteration 24\n",
      "Iteration 25\n",
      "Iteration 26\n",
      "Iteration 27\n",
      "Iteration 28\n",
      "Iteration 29\n",
      "Iteration 30\n",
      "Iteration 31\n",
      "Iteration 32\n",
      "Iteration 33\n",
      "Iteration 34\n",
      "Iteration 35\n",
      "Iteration 36\n",
      "Iteration 37\n",
      "Iteration 38\n",
      "Iteration 39\n",
      "Iteration 40\n",
      "Iteration 41\n",
      "Iteration 42\n",
      "Iteration 43\n",
      "Iteration 44\n",
      "Iteration 45\n",
      "Iteration 46\n",
      "Iteration 47\n",
      "Iteration 48\n",
      "Iteration 49\n",
      "Iteration 50\n",
      "Iteration 51\n",
      "Iteration 52\n",
      "Iteration 53\n",
      "Iteration 54\n",
      "Iteration 55\n",
      "Iteration 56\n",
      "Iteration 57\n",
      "Iteration 58\n",
      "Iteration 59\n",
      "Iteration 60\n",
      "Iteration 61\n",
      "Iteration 62\n",
      "Iteration 63\n",
      "Iteration 64\n",
      "Iteration 65\n",
      "Iteration 66\n",
      "Iteration 67\n",
      "Iteration 68\n",
      "Iteration 69\n",
      "Iteration 70\n",
      "Iteration 71\n",
      "Iteration 72\n",
      "Iteration 73\n",
      "Iteration 74\n",
      "Iteration 75\n",
      "Iteration 76\n",
      "Iteration 77\n",
      "Iteration 78\n",
      "Iteration 79\n",
      "Iteration 80\n",
      "Iteration 81\n",
      "Iteration 82\n",
      "Iteration 83\n",
      "Iteration 84\n",
      "Iteration 85\n",
      "Iteration 86\n",
      "Iteration 87\n",
      "Iteration 88\n",
      "Iteration 89\n",
      "Iteration 90\n",
      "Iteration 91\n",
      "Iteration 92\n",
      "Iteration 93\n",
      "Iteration 94\n",
      "Iteration 95\n",
      "Iteration 96\n",
      "Iteration 97\n",
      "Iteration 98\n",
      "Iteration 99\n"
     ]
    }
   ],
   "source": [
    "accuracies_ET = []\n",
    "accuracies_top_ET = []\n",
    "income_ET = []\n",
    "selected_features_ET = []\n",
    "\n",
    "selector = SelectFromModel(ExtraTreesClassifier(bootstrap=False, criterion=\"gini\", max_features=0.9500000000000001, min_samples_leaf=7, min_samples_split=2, n_estimators=100), threshold=T)\n",
    "\n",
    "model = ExtraTreesClassifier(bootstrap=False, criterion=\"gini\", max_features=0.9500000000000001, min_samples_leaf=7, min_samples_split=2, n_estimators=100)\n",
    "\n",
    "for i in range(ITER):\n",
    "    print(\"Iteration\", i)\n",
    "    X_train, X_test, y_train, y_test = train_test_split(X, y, train_size=TRAIN_SIZE, shuffle=True)\n",
    "    \n",
    "    fit = selector.fit(X, y)\n",
    "    selected = fit.get_support(indices=True)\n",
    "    selected_features_ET.append(selected)\n",
    "    \n",
    "    model.fit(X_train[:, selected], y_train)\n",
    "    y_pred = model.predict(X_test[:, selected])\n",
    "    y_proba = model.predict_proba(X_test[:, selected])\n",
    "    \n",
    "    accuracies_top_ET.append(calculate_income_1000_customers(len(selected), y_proba=y_proba, y_true=y_test, y_pred=y_pred)[0]) \n",
    "    income_ET.append(calculate_income_1000_customers(len(selected), y_proba=y_proba, y_true=y_test, y_pred=y_pred)[1])\n",
    "    accuracies_ET.append(accuracy_score(y_test, y_pred)) "
   ],
   "metadata": {
    "collapsed": false,
    "ExecuteTime": {
     "end_time": "2024-06-03T16:19:13.226668Z",
     "start_time": "2024-06-03T15:40:08.090182Z"
    }
   },
   "id": "42dd1d367c611f17"
  },
  {
   "cell_type": "code",
   "execution_count": 53,
   "outputs": [],
   "source": [
    "avg_accuracies_ET = [np.mean(accuracies_ET)]\n",
    "avg_accuracies_top_ET = [np.mean(accuracies_top_ET)]\n",
    "avg_income_ET = [np.mean(income_ET)]"
   ],
   "metadata": {
    "collapsed": false,
    "ExecuteTime": {
     "end_time": "2024-06-03T16:20:07.998489Z",
     "start_time": "2024-06-03T16:20:07.958351Z"
    }
   },
   "id": "b2e8e2f06f9d6ddc"
  },
  {
   "cell_type": "code",
   "execution_count": 54,
   "outputs": [
    {
     "data": {
      "text/plain": "[6162.0]"
     },
     "execution_count": 54,
     "metadata": {},
     "output_type": "execute_result"
    }
   ],
   "source": [
    "avg_income_ET"
   ],
   "metadata": {
    "collapsed": false,
    "ExecuteTime": {
     "end_time": "2024-06-03T16:20:08.956650Z",
     "start_time": "2024-06-03T16:20:08.942808Z"
    }
   },
   "id": "24d3b9ba9bf18eb2"
  },
  {
   "cell_type": "markdown",
   "source": [
    "## Extra Tree + SVM"
   ],
   "metadata": {
    "collapsed": false
   },
   "id": "25ade5773a6443f5"
  },
  {
   "cell_type": "code",
   "execution_count": 47,
   "outputs": [],
   "source": [
    "np.random.seed(0)"
   ],
   "metadata": {
    "collapsed": false,
    "ExecuteTime": {
     "end_time": "2024-06-03T14:54:04.083298Z",
     "start_time": "2024-06-03T14:54:04.051535Z"
    }
   },
   "id": "5d490493403e87cf"
  },
  {
   "cell_type": "code",
   "execution_count": 48,
   "outputs": [
    {
     "name": "stdout",
     "output_type": "stream",
     "text": [
      "Iteration 0\n",
      "Iteration 1\n",
      "Iteration 2\n",
      "Iteration 3\n",
      "Iteration 4\n",
      "Iteration 5\n",
      "Iteration 6\n",
      "Iteration 7\n",
      "Iteration 8\n",
      "Iteration 9\n",
      "Iteration 10\n",
      "Iteration 11\n",
      "Iteration 12\n",
      "Iteration 13\n",
      "Iteration 14\n",
      "Iteration 15\n",
      "Iteration 16\n",
      "Iteration 17\n",
      "Iteration 18\n",
      "Iteration 19\n",
      "Iteration 20\n",
      "Iteration 21\n",
      "Iteration 22\n",
      "Iteration 23\n",
      "Iteration 24\n",
      "Iteration 25\n",
      "Iteration 26\n",
      "Iteration 27\n",
      "Iteration 28\n",
      "Iteration 29\n",
      "Iteration 30\n",
      "Iteration 31\n",
      "Iteration 32\n",
      "Iteration 33\n",
      "Iteration 34\n",
      "Iteration 35\n",
      "Iteration 36\n",
      "Iteration 37\n",
      "Iteration 38\n",
      "Iteration 39\n",
      "Iteration 40\n",
      "Iteration 41\n",
      "Iteration 42\n",
      "Iteration 43\n",
      "Iteration 44\n",
      "Iteration 45\n",
      "Iteration 46\n",
      "Iteration 47\n",
      "Iteration 48\n",
      "Iteration 49\n",
      "Iteration 50\n",
      "Iteration 51\n",
      "Iteration 52\n",
      "Iteration 53\n",
      "Iteration 54\n",
      "Iteration 55\n",
      "Iteration 56\n",
      "Iteration 57\n",
      "Iteration 58\n",
      "Iteration 59\n",
      "Iteration 60\n",
      "Iteration 61\n",
      "Iteration 62\n",
      "Iteration 63\n",
      "Iteration 64\n",
      "Iteration 65\n",
      "Iteration 66\n",
      "Iteration 67\n",
      "Iteration 68\n",
      "Iteration 69\n",
      "Iteration 70\n",
      "Iteration 71\n",
      "Iteration 72\n",
      "Iteration 73\n",
      "Iteration 74\n",
      "Iteration 75\n",
      "Iteration 76\n",
      "Iteration 77\n",
      "Iteration 78\n",
      "Iteration 79\n",
      "Iteration 80\n",
      "Iteration 81\n",
      "Iteration 82\n",
      "Iteration 83\n",
      "Iteration 84\n",
      "Iteration 85\n",
      "Iteration 86\n",
      "Iteration 87\n",
      "Iteration 88\n",
      "Iteration 89\n",
      "Iteration 90\n",
      "Iteration 91\n",
      "Iteration 92\n",
      "Iteration 93\n",
      "Iteration 94\n",
      "Iteration 95\n",
      "Iteration 96\n",
      "Iteration 97\n",
      "Iteration 98\n",
      "Iteration 99\n"
     ]
    }
   ],
   "source": [
    "accuracies_ET_SVM = []\n",
    "accuracies_top_ET_SVM = []\n",
    "income_ET_SVM = []\n",
    "selected_features_ET_SVM = []\n",
    "\n",
    "selector = SelectFromModel(ExtraTreesClassifier(bootstrap=False, criterion=\"gini\", max_features=0.9500000000000001, min_samples_leaf=7, min_samples_split=2, n_estimators=100), threshold=T)\n",
    "\n",
    "model = SVC(probability=True)\n",
    "\n",
    "for i in range(ITER):\n",
    "    print(\"Iteration\", i)\n",
    "    X_train, X_test, y_train, y_test = train_test_split(X, y, train_size=TRAIN_SIZE, shuffle=True)\n",
    "    \n",
    "    fit = selector.fit(X, y)\n",
    "    selected = fit.get_support(indices=True)\n",
    "    selected_features_ET_SVM.append(selected)\n",
    "    \n",
    "    model.fit(X_train[:, selected], y_train)\n",
    "    y_pred = model.predict(X_test[:, selected])\n",
    "    y_proba = model.predict_proba(X_test[:, selected])\n",
    "    \n",
    "    accuracies_top_ET_SVM.append(calculate_income_1000_customers(len(selected), y_proba=y_proba, y_true=y_test, y_pred=y_pred)[0]) \n",
    "    income_ET_SVM.append(calculate_income_1000_customers(len(selected), y_proba=y_proba, y_true=y_test, y_pred=y_pred)[1])\n",
    "    accuracies_ET_SVM.append(accuracy_score(y_test, y_pred)) "
   ],
   "metadata": {
    "collapsed": false,
    "ExecuteTime": {
     "end_time": "2024-06-03T15:39:56.489247Z",
     "start_time": "2024-06-03T14:54:04.487932Z"
    }
   },
   "id": "142c0bce4d43e48a"
  },
  {
   "cell_type": "code",
   "execution_count": 49,
   "outputs": [],
   "source": [
    "avg_accuracies_ET_SVM = [np.mean(accuracies_ET_SVM)]\n",
    "avg_accuracies_top_ET_SVM = [np.mean(accuracies_top_ET_SVM)]\n",
    "avg_income_ET_SVM = [np.mean(income_ET_SVM)]"
   ],
   "metadata": {
    "collapsed": false,
    "ExecuteTime": {
     "end_time": "2024-06-03T15:40:00.404059Z",
     "start_time": "2024-06-03T15:40:00.379114Z"
    }
   },
   "id": "c9cf521a72b76a29"
  },
  {
   "cell_type": "code",
   "execution_count": 50,
   "outputs": [
    {
     "data": {
      "text/plain": "[6296.5]"
     },
     "execution_count": 50,
     "metadata": {},
     "output_type": "execute_result"
    }
   ],
   "source": [
    "avg_income_ET_SVM"
   ],
   "metadata": {
    "collapsed": false,
    "ExecuteTime": {
     "end_time": "2024-06-03T15:40:01.238303Z",
     "start_time": "2024-06-03T15:40:01.209270Z"
    }
   },
   "id": "1183253b6a5e0677"
  },
  {
   "cell_type": "markdown",
   "source": [
    "### Comparison"
   ],
   "metadata": {
    "collapsed": false
   },
   "id": "226ab4d094e65a80"
  },
  {
   "cell_type": "code",
   "execution_count": 55,
   "outputs": [],
   "source": [
    "incomes = {\n",
    "    'RandomForest + GaussianNB': income_RF_NB,\n",
    "    'Random Forest': income_RF,\n",
    "    'RandomForest + ExtraTree': income_RF_ET,\n",
    "    'ExtraTree': income_ET,\n",
    "    'ExtraTree + SVM': income_ET_SVM\n",
    "}"
   ],
   "metadata": {
    "collapsed": false,
    "ExecuteTime": {
     "end_time": "2024-06-03T16:20:16.189705Z",
     "start_time": "2024-06-03T16:20:16.160149Z"
    }
   },
   "id": "3321a65770ff56bc"
  },
  {
   "cell_type": "code",
   "execution_count": 56,
   "outputs": [],
   "source": [
    "accuracies = {\n",
    "    'RandomForest + GaussianNB': accuracies_RF_NB,\n",
    "    'Random Forest': accuracies_RF,\n",
    "    'RandomForest + ExtraTree': accuracies_RF_ET,\n",
    "    'ExtraTree': accuracies_ET,\n",
    "    'ExtraTree + SVM': accuracies_ET_SVM\n",
    "}"
   ],
   "metadata": {
    "collapsed": false,
    "ExecuteTime": {
     "end_time": "2024-06-03T16:20:16.911684Z",
     "start_time": "2024-06-03T16:20:16.885147Z"
    }
   },
   "id": "f12a09afd41658d2"
  },
  {
   "cell_type": "code",
   "execution_count": 57,
   "outputs": [],
   "source": [
    "accuracies_top = {\n",
    "    'RandomForest + GaussianNB': accuracies_top_RF_NB,\n",
    "    'Random Forest': accuracies_top_RF,\n",
    "    'RandomForest + ExtraTree': accuracies_top_RF_ET,\n",
    "    'ExtraTree': accuracies_top_ET,\n",
    "    'ExtraTree + SVM': accuracies_top_ET_SVM\n",
    "}"
   ],
   "metadata": {
    "collapsed": false,
    "ExecuteTime": {
     "end_time": "2024-06-03T16:20:17.418680Z",
     "start_time": "2024-06-03T16:20:17.401003Z"
    }
   },
   "id": "87e4ffc1f79341dd"
  },
  {
   "cell_type": "code",
   "execution_count": 74,
   "outputs": [
    {
     "data": {
      "text/plain": "<Figure size 1500x600 with 3 Axes>",
      "image/png": "[encoded data removed]"
     },
     "metadata": {},
     "output_type": "display_data"
    }
   ],
   "source": [
    "fig, axes = plt.subplots(1, 3, figsize=(15, 6))\n",
    "axes[0].boxplot(incomes.values(), labels=incomes.keys())\n",
    "axes[0].set_title('Income for various strategies')\n",
    "axes[0].set_xlabel('Strategy')\n",
    "axes[0].set_ylabel('Income')\n",
    "axes[0].tick_params(axis='x', rotation=45)\n",
    "axes[0].grid(True)\n",
    "\n",
    "axes[1].boxplot(accuracies.values(), labels=accuracies.keys())\n",
    "axes[1].set_title('Accuracies for various strategies')\n",
    "axes[1].set_xlabel('Strategy')\n",
    "axes[1].set_ylabel('Accuracy')\n",
    "axes[1].tick_params(axis='x', rotation=45)\n",
    "axes[1].grid(True)\n",
    "\n",
    "axes[2].boxplot(accuracies_top.values(), labels=accuracies_top.keys())\n",
    "axes[2].set_title('Accuracies (top customers) for various strategies')\n",
    "axes[2].set_xlabel('Strategy')\n",
    "axes[2].set_ylabel('Accuracy (top customers)')\n",
    "axes[2].tick_params(axis='x', rotation=45)\n",
    "axes[2].grid(True)\n",
    "\n",
    "plt.tight_layout()\n",
    "plt.show()"
   ],
   "metadata": {
    "collapsed": false,
    "ExecuteTime": {
     "end_time": "2024-06-03T16:44:26.634697Z",
     "start_time": "2024-06-03T16:44:26.354374Z"
    }
   },
   "id": "781d9a14b1909427"
  },
  {
   "cell_type": "code",
   "execution_count": 82,
   "outputs": [
    {
     "data": {
      "text/plain": "<Figure size 1000x600 with 1 Axes>",
      "image/png": "[encoded data removed]"
     },
     "metadata": {},
     "output_type": "display_data"
    }
   ],
   "source": [
    "from collections import Counter\n",
    "\n",
    "data_tuples = [tuple(arr) for arr in selected_features_RF]\n",
    "counter = Counter(data_tuples)\n",
    "\n",
    "sets = list(counter.keys())\n",
    "frequencies = list(counter.values())\n",
    "\n",
    "plt.figure(figsize=(10, 6))\n",
    "plt.bar(range(len(sets)), frequencies, tick_label=[str(s) for s in sets])\n",
    "plt.xlabel('Features')\n",
    "plt.ylabel('Frequency')\n",
    "plt.title('SelectFromModel with Random Forest - feature choices and their frequency')\n",
    "plt.xticks(rotation=45)\n",
    "\n",
    "plt.tight_layout()\n",
    "plt.show()"
   ],
   "metadata": {
    "collapsed": false,
    "ExecuteTime": {
     "end_time": "2024-06-03T17:57:46.354898Z",
     "start_time": "2024-06-03T17:57:46.230983Z"
    }
   },
   "id": "71006f6cb38e0344"
  },
  {
   "cell_type": "code",
   "execution_count": null,
   "outputs": [],
   "source": [],
   "metadata": {
    "collapsed": false
   },
   "id": "cb44a5c0a771e326"
  }
 ],
 "metadata": {
  "kernelspec": {
   "display_name": "Python 3",
   "language": "python",
   "name": "python3"
  },
  "language_info": {
   "codemirror_mode": {
    "name": "ipython",
    "version": 2
   },
   "file_extension": ".py",
   "mimetype": "text/x-python",
   "name": "python",
   "nbconvert_exporter": "python",
   "pygments_lexer": "ipython2",
   "version": "2.7.6"
  }
 },
 "nbformat": 4,
 "nbformat_minor": 5
}
