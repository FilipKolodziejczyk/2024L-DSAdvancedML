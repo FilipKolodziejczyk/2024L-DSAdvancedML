{
 "cells": [
  {
   "cell_type": "code",
   "execution_count": 26,
   "outputs": [],
   "source": [
    "from sklearn.naive_bayes import GaussianNB\n",
    "from sklearn.metrics import accuracy_score\n",
    "import numpy as np\n",
    "import pandas as pd\n",
    "from sklearn.model_selection import train_test_split\n",
    "from matplotlib import pyplot as plt\n",
    "from utils import calculate_income_1000_customers\n",
    "from sklearn.model_selection import GridSearchCV"
   ],
   "metadata": {
    "collapsed": false,
    "ExecuteTime": {
     "end_time": "2024-06-03T20:56:04.197409Z",
     "start_time": "2024-06-03T20:56:04.186205Z"
    }
   },
   "id": "d03b565d396bb431"
  },
  {
   "cell_type": "code",
   "execution_count": 27,
   "outputs": [],
   "source": [
    "TRAIN_SIZE = 0.8"
   ],
   "metadata": {
    "collapsed": false,
    "ExecuteTime": {
     "end_time": "2024-06-03T20:56:04.693261Z",
     "start_time": "2024-06-03T20:56:04.687539Z"
    }
   },
   "id": "bb6cc4d365fb3425"
  },
  {
   "cell_type": "code",
   "execution_count": 28,
   "outputs": [],
   "source": [
    "np.random.seed(0)\n",
    "X = pd.read_csv('../data/x_train.txt', sep=' ', header=None).to_numpy()\n",
    "y = pd.read_csv('../data/y_train.txt', sep=' ', header=None).to_numpy().ravel()"
   ],
   "metadata": {
    "collapsed": false,
    "ExecuteTime": {
     "end_time": "2024-06-03T20:56:05.358798Z",
     "start_time": "2024-06-03T20:56:05.140097Z"
    }
   },
   "id": "1755e960c17008e6"
  },
  {
   "cell_type": "markdown",
   "source": [
    "# GaussianNB"
   ],
   "metadata": {
    "collapsed": false
   },
   "id": "8213c3f3e57a4752"
  },
  {
   "cell_type": "markdown",
   "source": [
    "### [102, 103, 105]"
   ],
   "metadata": {
    "collapsed": false
   },
   "id": "59a59e5f9c04b725"
  },
  {
   "cell_type": "code",
   "execution_count": 29,
   "outputs": [],
   "source": [
    "accuracies = []\n",
    "accuracies_top = []\n",
    "income = []\n",
    "selected = [101, 102, 103, 105]\n",
    "model = GaussianNB(var_smoothing=1)\n",
    "\n",
    "for _ in range(1000):\n",
    "    X_train, X_test, y_train, y_test = train_test_split(X, y, train_size=TRAIN_SIZE, shuffle=True)\n",
    "\n",
    "    model.fit(X_train[:, selected], y_train)\n",
    "    y_pred = model.predict(X_test[:, selected])\n",
    "    y_proba = model.predict_proba(X_test[:, selected])\n",
    "    \n",
    "    accuracies_top.append(calculate_income_1000_customers(len(selected), y_proba=y_proba, y_true=y_test, y_pred=y_pred)[0]) \n",
    "    income.append(calculate_income_1000_customers(len(selected), y_proba=y_proba, y_true=y_test, y_pred=y_pred)[1])\n",
    "    \n",
    "    accuracies.append(accuracy_score(y_test, y_pred))"
   ],
   "metadata": {
    "collapsed": false,
    "ExecuteTime": {
     "end_time": "2024-06-03T20:56:17.311562Z",
     "start_time": "2024-06-03T20:56:06.777182Z"
    }
   },
   "id": "8e1f4e7e264ceb34"
  },
  {
   "cell_type": "code",
   "execution_count": 30,
   "outputs": [],
   "source": [
    "avg_accuracies = [np.mean(accuracies)]\n",
    "avg_accuracies_top = [np.mean(accuracies_top)]\n",
    "avg_income = [np.mean(income)]"
   ],
   "metadata": {
    "collapsed": false,
    "ExecuteTime": {
     "end_time": "2024-06-03T20:56:17.317109Z",
     "start_time": "2024-06-03T20:56:17.312524Z"
    }
   },
   "id": "b366aeb8571b0994"
  },
  {
   "cell_type": "code",
   "execution_count": 31,
   "outputs": [
    {
     "name": "stdout",
     "output_type": "stream",
     "text": [
      "[7032.228436165547]\n"
     ]
    }
   ],
   "source": [
    "print(avg_income)"
   ],
   "metadata": {
    "collapsed": false,
    "ExecuteTime": {
     "end_time": "2024-06-03T20:56:17.318362Z",
     "start_time": "2024-06-03T20:56:17.315266Z"
    }
   },
   "id": "a931dc9bf5e1b34f"
  },
  {
   "cell_type": "code",
   "execution_count": 23,
   "outputs": [
    {
     "name": "stdout",
     "output_type": "stream",
     "text": [
      "[0.5888969999999999]\n"
     ]
    }
   ],
   "source": [
    "print(avg_accuracies)"
   ],
   "metadata": {
    "collapsed": false,
    "ExecuteTime": {
     "end_time": "2024-06-03T20:55:23.442827Z",
     "start_time": "2024-06-03T20:55:23.440048Z"
    }
   },
   "id": "322a4f3e6eab18a"
  },
  {
   "cell_type": "code",
   "execution_count": 24,
   "outputs": [
    {
     "name": "stdout",
     "output_type": "stream",
     "text": [
      "[0.76653444191064]\n"
     ]
    }
   ],
   "source": [
    "print(avg_accuracies_top)"
   ],
   "metadata": {
    "collapsed": false,
    "ExecuteTime": {
     "end_time": "2024-06-03T20:55:23.448321Z",
     "start_time": "2024-06-03T20:55:23.443547Z"
    }
   },
   "id": "864a434595e180b6"
  },
  {
   "cell_type": "code",
   "execution_count": 25,
   "outputs": [
    {
     "data": {
      "text/plain": "324.3595527144095"
     },
     "execution_count": 25,
     "metadata": {},
     "output_type": "execute_result"
    }
   ],
   "source": [
    "np.std(income)"
   ],
   "metadata": {
    "collapsed": false,
    "ExecuteTime": {
     "end_time": "2024-06-03T20:55:23.451871Z",
     "start_time": "2024-06-03T20:55:23.447746Z"
    }
   },
   "id": "82cf7899d57d9b05"
  },
  {
   "cell_type": "markdown",
   "source": [
    "### Different feature sets (length 3)"
   ],
   "metadata": {
    "collapsed": false
   },
   "id": "ad4e9a4c6bdf9594"
  },
  {
   "cell_type": "code",
   "execution_count": 17,
   "outputs": [],
   "source": [
    "sets = [[101, 102, 103], [102, 103, 105], [101, 102, 105]]\n",
    "param_grid = {\n",
    "    'var_smoothing': np.logspace(0, 1, num=10000)\n",
    "}\n",
    "results = {}"
   ],
   "metadata": {
    "collapsed": false,
    "ExecuteTime": {
     "end_time": "2024-06-03T18:49:01.275744Z",
     "start_time": "2024-06-03T18:49:01.247918Z"
    }
   },
   "id": "9b20cf985e269ec8"
  },
  {
   "cell_type": "code",
   "execution_count": 18,
   "outputs": [
    {
     "name": "stdout",
     "output_type": "stream",
     "text": [
      "{'var_smoothing': 1.0}\n",
      "{'var_smoothing': 1.0}\n",
      "{'var_smoothing': 1.0}\n"
     ]
    }
   ],
   "source": [
    "for selected in sets:\n",
    "    np.random.seed(0)\n",
    "    accuracies = []\n",
    "    accuracies_top = []\n",
    "    income = []\n",
    "\n",
    "    X_train, X_test, y_train, y_test = train_test_split(X, y, train_size=TRAIN_SIZE, shuffle=True)\n",
    "    grid_model = GridSearchCV(estimator=GaussianNB(), param_grid=param_grid, cv=5)\n",
    "    grid_model.fit(X_train[:, selected], y_train)\n",
    "    best_params = grid_model.best_params_\n",
    "    print(best_params)\n",
    "    model = GaussianNB(var_smoothing=best_params['var_smoothing'])\n",
    "\n",
    "    for _ in range(1000):\n",
    "        X_train, X_test, y_train, y_test = train_test_split(X, y, train_size=TRAIN_SIZE, shuffle=True)\n",
    "\n",
    "        model.fit(X_train[:, selected], y_train)\n",
    "        y_pred = model.predict(X_test[:, selected])\n",
    "        y_proba = model.predict_proba(X_test[:, selected])\n",
    "\n",
    "        accuracies_top.append(calculate_income_1000_customers(len(selected), y_proba=y_proba, y_true=y_test, y_pred=y_pred)[0]) \n",
    "        income.append(calculate_income_1000_customers(len(selected), y_proba=y_proba, y_true=y_test, y_pred=y_pred)[1])\n",
    "        accuracies.append(accuracy_score(y_test, y_pred))\n",
    "\n",
    "    avg_accuracies = np.mean(accuracies)\n",
    "    avg_accuracies_top = np.mean(accuracies_top)\n",
    "    avg_income = np.mean(income)\n",
    "\n",
    "    results[str(selected)] = {\n",
    "        'average_accuracy': avg_accuracies,\n",
    "        'average_accuracy_top': avg_accuracies_top,\n",
    "        'average_income': avg_income\n",
    "    }"
   ],
   "metadata": {
    "collapsed": false,
    "ExecuteTime": {
     "end_time": "2024-06-03T18:51:36.532161Z",
     "start_time": "2024-06-03T18:49:06.623639Z"
    }
   },
   "id": "d9632906f1a213df"
  },
  {
   "cell_type": "code",
   "execution_count": 16,
   "outputs": [
    {
     "name": "stdout",
     "output_type": "stream",
     "text": [
      "Features: [101, 102, 103]\n",
      "Average Accuracy: 0.559577\n",
      "Average Top Accuracy: 0.7698797626486686\n",
      "Average Income: 7098.797626486686\n",
      "----------------------------------------\n",
      "Features: [102, 103, 105]\n",
      "Average Accuracy: 0.567072\n",
      "Average Top Accuracy: 0.7938762856704407\n",
      "Average Income: 7338.762856704408\n",
      "----------------------------------------\n",
      "Features: [101, 102, 105]\n",
      "Average Accuracy: 0.566052\n",
      "Average Top Accuracy: 0.7851802925021972\n",
      "Average Income: 7251.802925021972\n",
      "----------------------------------------\n"
     ]
    }
   ],
   "source": [
    "for features, result in results.items():\n",
    "    print(f\"Features: {features}\")\n",
    "    print(f\"Average Accuracy: {result['average_accuracy']}\")\n",
    "    print(f\"Average Top Accuracy: {result['average_accuracy_top']}\")\n",
    "    print(f\"Average Income: {result['average_income']}\")\n",
    "    print(\"-\" * 40)"
   ],
   "metadata": {
    "collapsed": false,
    "ExecuteTime": {
     "end_time": "2024-06-03T18:45:45.007740Z",
     "start_time": "2024-06-03T18:45:44.977433Z"
    }
   },
   "id": "8d63ecc140aa41ee"
  },
  {
   "cell_type": "markdown",
   "source": [
    "## 4 features"
   ],
   "metadata": {
    "collapsed": false
   },
   "id": "f9243f0e463b5fb"
  },
  {
   "cell_type": "code",
   "execution_count": 4,
   "outputs": [],
   "source": [
    "param_grid = {\n",
    "    'var_smoothing': np.logspace(0, 1, num=10000)\n",
    "}\n",
    "results = {}\n",
    "selected = [101, 102, 103, 105]\n",
    "np.random.seed(0)"
   ],
   "metadata": {
    "collapsed": false,
    "ExecuteTime": {
     "end_time": "2024-06-03T18:41:01.125723Z",
     "start_time": "2024-06-03T18:41:01.081482Z"
    }
   },
   "id": "844384ed07ad8694"
  },
  {
   "cell_type": "code",
   "execution_count": 5,
   "outputs": [],
   "source": [
    "X_train, X_test, y_train, y_test = train_test_split(X, y, train_size=TRAIN_SIZE, shuffle=True)\n",
    "grid_model = GridSearchCV(estimator=GaussianNB(), param_grid=param_grid, cv=5)\n",
    "grid_model.fit(X_train[:, selected], y_train)\n",
    "best_params = grid_model.best_params_"
   ],
   "metadata": {
    "collapsed": false,
    "ExecuteTime": {
     "end_time": "2024-06-03T18:41:43.995286Z",
     "start_time": "2024-06-03T18:41:01.853166Z"
    }
   },
   "id": "301037c7433b5842"
  },
  {
   "cell_type": "code",
   "execution_count": 6,
   "outputs": [
    {
     "data": {
      "text/plain": "{'var_smoothing': 1.0}"
     },
     "execution_count": 6,
     "metadata": {},
     "output_type": "execute_result"
    }
   ],
   "source": [
    "best_params"
   ],
   "metadata": {
    "collapsed": false,
    "ExecuteTime": {
     "end_time": "2024-06-03T18:41:51.923622Z",
     "start_time": "2024-06-03T18:41:51.890417Z"
    }
   },
   "id": "18b7cf74c9888281"
  },
  {
   "cell_type": "code",
   "execution_count": 7,
   "outputs": [],
   "source": [
    "model = GaussianNB(var_smoothing=best_params['var_smoothing'])"
   ],
   "metadata": {
    "collapsed": false,
    "ExecuteTime": {
     "end_time": "2024-06-03T18:41:53.712433Z",
     "start_time": "2024-06-03T18:41:53.684736Z"
    }
   },
   "id": "9876fc733d17fa27"
  },
  {
   "cell_type": "code",
   "execution_count": 8,
   "outputs": [],
   "source": [
    "accuracies = []\n",
    "accuracies_top = []\n",
    "income = []\n",
    "\n",
    "for _ in range(1000):\n",
    "    X_train, X_test, y_train, y_test = train_test_split(X, y, train_size=TRAIN_SIZE, shuffle=True)\n",
    "\n",
    "    model.fit(X_train[:, selected], y_train)\n",
    "    y_pred = model.predict(X_test[:, selected])\n",
    "    y_proba = model.predict_proba(X_test[:, selected])\n",
    "    \n",
    "    accuracies_top.append(calculate_income_1000_customers(len(selected), y_proba=y_proba, y_true=y_test, y_pred=y_pred)[0]) \n",
    "    income.append(calculate_income_1000_customers(len(selected), y_proba=y_proba, y_true=y_test, y_pred=y_pred)[1])\n",
    "    \n",
    "    accuracies.append(accuracy_score(y_test, y_pred))"
   ],
   "metadata": {
    "collapsed": false,
    "ExecuteTime": {
     "end_time": "2024-06-03T18:42:04.397053Z",
     "start_time": "2024-06-03T18:41:54.328322Z"
    }
   },
   "id": "f4d3f4eac65661b9"
  },
  {
   "cell_type": "code",
   "execution_count": 9,
   "outputs": [],
   "source": [
    "avg_accuracies = [np.mean(accuracies)]\n",
    "avg_accuracies_top = [np.mean(accuracies_top)]\n",
    "avg_income = [np.mean(income)]"
   ],
   "metadata": {
    "collapsed": false,
    "ExecuteTime": {
     "end_time": "2024-06-03T18:42:04.402600Z",
     "start_time": "2024-06-03T18:42:04.398177Z"
    }
   },
   "id": "7d6fbfd2d522328e"
  },
  {
   "cell_type": "code",
   "execution_count": 10,
   "outputs": [
    {
     "name": "stdout",
     "output_type": "stream",
     "text": [
      "[7031.30242069166]\n"
     ]
    }
   ],
   "source": [
    "print(avg_income)"
   ],
   "metadata": {
    "collapsed": false,
    "ExecuteTime": {
     "end_time": "2024-06-03T18:42:15.443504Z",
     "start_time": "2024-06-03T18:42:15.401437Z"
    }
   },
   "id": "f031a79f9f2870e7"
  }
 ],
 "metadata": {
  "kernelspec": {
   "display_name": "Python 3",
   "language": "python",
   "name": "python3"
  },
  "language_info": {
   "codemirror_mode": {
    "name": "ipython",
    "version": 2
   },
   "file_extension": ".py",
   "mimetype": "text/x-python",
   "name": "python",
   "nbconvert_exporter": "python",
   "pygments_lexer": "ipython2",
   "version": "2.7.6"
  }
 },
 "nbformat": 4,
 "nbformat_minor": 5
}
