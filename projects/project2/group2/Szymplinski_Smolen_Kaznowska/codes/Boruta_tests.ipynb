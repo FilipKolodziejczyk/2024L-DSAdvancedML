{
 "cells": [
  {
   "cell_type": "markdown",
   "metadata": {},
   "source": [
    "# Imports"
   ]
  },
  {
   "cell_type": "code",
   "execution_count": 8,
   "metadata": {},
   "outputs": [],
   "source": [
    "import numpy as np\n",
    "import pandas as pd\n",
    "import matplotlib.pyplot as plt\n",
    "import seaborn as sns\n",
    "from tqdm import tqdm\n",
    "import sys\n",
    "import os\n",
    "from utils import *\n",
    "\n",
    "import xgboost as xgb\n",
    "from boruta import BorutaPy\n",
    "\n",
    "from sklearn.svm import SVC\n",
    "from sklearn.decomposition import PCA\n",
    "from sklearn.feature_selection import SequentialFeatureSelector, RFE, SelectKBest, f_classif\n",
    "from sklearn.model_selection import train_test_split\n",
    "from sklearn.metrics import accuracy_score\n",
    "from sklearn.ensemble import RandomForestClassifier"
   ]
  },
  {
   "cell_type": "code",
   "execution_count": 9,
   "metadata": {},
   "outputs": [],
   "source": [
    "np.int = np.int32\n",
    "np.float = np.float64\n",
    "np.bool = np.bool_"
   ]
  },
  {
   "cell_type": "markdown",
   "metadata": {},
   "source": [
    "# Data Loading"
   ]
  },
  {
   "cell_type": "code",
   "execution_count": 10,
   "metadata": {},
   "outputs": [],
   "source": [
    "DATA_DIR = \"./data\""
   ]
  },
  {
   "cell_type": "code",
   "execution_count": 11,
   "metadata": {},
   "outputs": [],
   "source": [
    "X = pd.read_csv(os.path.join(DATA_DIR, 'x_train.txt'), sep=\" \", header=None)\n",
    "X.columns = X.columns.astype(str)\n",
    "y = np.array(pd.read_csv(os.path.join(DATA_DIR, 'y_train.txt'), header=None)[0])\n",
    "X_train,X_val, y_train, y_val = train_test_split(X, y, test_size=0.2)"
   ]
  },
  {
   "cell_type": "code",
   "execution_count": 20,
   "metadata": {},
   "outputs": [
    {
     "name": "stdout",
     "output_type": "stream",
     "text": [
      "Removed columns: ['1', '3', '4', '5', '6', '7', '8', '9']\n"
     ]
    }
   ],
   "source": [
    "X_no_corr = remove_collinear_features(X, 0.8)"
   ]
  },
  {
   "cell_type": "markdown",
   "metadata": {},
   "source": [
    "# Boruta"
   ]
  },
  {
   "cell_type": "code",
   "execution_count": 13,
   "metadata": {},
   "outputs": [],
   "source": [
    "model_rf = RandomForestClassifier(n_estimators=100, n_jobs=-1, max_depth=2, random_state=0)\n",
    "model_xgboost = xgb.XGBClassifier(n_estimators=100, n_jobs=-1, max_depth=2, random_state=0)"
   ]
  },
  {
   "cell_type": "markdown",
   "metadata": {},
   "source": [
    "## With correlation"
   ]
  },
  {
   "cell_type": "code",
   "execution_count": 14,
   "metadata": {},
   "outputs": [],
   "source": [
    "model_rf = RandomForestClassifier(n_estimators=100, n_jobs=-1, max_depth=2, random_state=0)"
   ]
  },
  {
   "cell_type": "code",
   "execution_count": 15,
   "metadata": {},
   "outputs": [
    {
     "name": "stdout",
     "output_type": "stream",
     "text": [
      "Iteration: 1 / 100\n",
      "Iteration: 2 / 100\n",
      "Iteration: 3 / 100\n",
      "Iteration: 4 / 100\n",
      "Iteration: 5 / 100\n",
      "Iteration: 6 / 100\n",
      "Iteration: 7 / 100\n",
      "Iteration: 8 / 100\n",
      "Iteration: 9 / 100\n",
      "Iteration: 10 / 100\n",
      "Iteration: 11 / 100\n",
      "Iteration: 12 / 100\n",
      "Iteration: 13 / 100\n",
      "Iteration: 14 / 100\n",
      "Iteration: 15 / 100\n",
      "Iteration: 16 / 100\n",
      "Iteration: 17 / 100\n",
      "Iteration: 18 / 100\n",
      "Iteration: 19 / 100\n",
      "Iteration: 20 / 100\n",
      "Iteration: 21 / 100\n",
      "Iteration: 22 / 100\n",
      "Iteration: 23 / 100\n",
      "Iteration: 24 / 100\n",
      "Iteration: 25 / 100\n",
      "Iteration: 26 / 100\n",
      "Iteration: 27 / 100\n",
      "Iteration: 28 / 100\n",
      "Iteration: 29 / 100\n",
      "Iteration: 30 / 100\n",
      "Iteration: 31 / 100\n",
      "Iteration: 32 / 100\n",
      "Iteration: 33 / 100\n",
      "Iteration: 34 / 100\n",
      "Iteration: 35 / 100\n",
      "Iteration: 36 / 100\n",
      "Iteration: 37 / 100\n",
      "Iteration: 38 / 100\n",
      "Iteration: 39 / 100\n",
      "Iteration: 40 / 100\n",
      "Iteration: 41 / 100\n",
      "Iteration: 42 / 100\n",
      "Iteration: 43 / 100\n",
      "Iteration: 44 / 100\n",
      "Iteration: 45 / 100\n",
      "Iteration: 46 / 100\n",
      "Iteration: 47 / 100\n",
      "Iteration: 48 / 100\n",
      "Iteration: 49 / 100\n",
      "Iteration: 50 / 100\n",
      "Iteration: 51 / 100\n",
      "Iteration: 52 / 100\n",
      "Iteration: 53 / 100\n",
      "Iteration: 54 / 100\n",
      "Iteration: 55 / 100\n",
      "Iteration: 56 / 100\n",
      "Iteration: 57 / 100\n",
      "Iteration: 58 / 100\n",
      "Iteration: 59 / 100\n",
      "Iteration: 60 / 100\n",
      "Iteration: 61 / 100\n",
      "Iteration: 62 / 100\n",
      "Iteration: 63 / 100\n",
      "Iteration: 64 / 100\n",
      "Iteration: 65 / 100\n",
      "Iteration: 66 / 100\n",
      "Iteration: 67 / 100\n",
      "Iteration: 68 / 100\n",
      "Iteration: 69 / 100\n",
      "Iteration: 70 / 100\n",
      "Iteration: 71 / 100\n",
      "Iteration: 72 / 100\n",
      "Iteration: 73 / 100\n",
      "Iteration: 74 / 100\n",
      "Iteration: 75 / 100\n",
      "Iteration: 76 / 100\n",
      "Iteration: 77 / 100\n",
      "Iteration: 78 / 100\n",
      "Iteration: 79 / 100\n",
      "Iteration: 80 / 100\n",
      "Iteration: 81 / 100\n",
      "Iteration: 82 / 100\n",
      "Iteration: 83 / 100\n",
      "Iteration: 84 / 100\n",
      "Iteration: 85 / 100\n",
      "Iteration: 86 / 100\n",
      "Iteration: 87 / 100\n",
      "Iteration: 88 / 100\n",
      "Iteration: 89 / 100\n",
      "Iteration: 90 / 100\n",
      "Iteration: 91 / 100\n",
      "Iteration: 92 / 100\n",
      "Iteration: 93 / 100\n",
      "Iteration: 94 / 100\n",
      "Iteration: 95 / 100\n",
      "\n",
      "\n",
      "BorutaPy finished running.\n",
      "\n",
      "Iteration: \t96 / 100\n",
      "Confirmed: \t17\n",
      "Tentative: \t0\n",
      "Rejected: \t483\n"
     ]
    }
   ],
   "source": [
    "boruta_with_corr = BorutaPy(model_rf, verbose=1)\n",
    "selection_with_corr = boruta_with_corr.fit(np.array(X_train), y_train)"
   ]
  },
  {
   "cell_type": "code",
   "execution_count": 63,
   "metadata": {},
   "outputs": [
    {
     "data": {
      "text/plain": [
       "Index(['0', '1', '2', '3', '4', '5', '6', '7', '8', '9', '21', '100', '101',\n",
       "       '102', '103', '104', '105'],\n",
       "      dtype='object')"
      ]
     },
     "execution_count": 63,
     "metadata": {},
     "output_type": "execute_result"
    }
   ],
   "source": [
    "X.iloc[:, selection_with_corr.support_].columns"
   ]
  },
  {
   "cell_type": "code",
   "execution_count": 16,
   "metadata": {},
   "outputs": [
    {
     "name": "stderr",
     "output_type": "stream",
     "text": [
      "100%|██████████| 5/5 [00:01<00:00,  4.32it/s]\n"
     ]
    }
   ],
   "source": [
    "results_boruta_corr_RF = []\n",
    "model_rf = RandomForestClassifier(n_estimators=100, n_jobs=-1, max_depth=2, random_state=0)\n",
    "for _ in tqdm(range(5)):\n",
    "    X_train,X_val, y_train, y_val = train_test_split(X, y, test_size=0.2)\n",
    "    X_train_boruta = X_train.iloc[:, selection_with_corr.support_]\n",
    "    X_val_boruta = X_val.iloc[:, selection_with_corr.support_]\n",
    "    \n",
    "    model_rf.fit(X_train_boruta, y_train)\n",
    "    y_pred = model_rf.predict_proba(X_val_boruta)\n",
    "    reward = calculate_score(X_train_boruta.shape[1]-1, y_pred, y_val)\n",
    "    results_boruta_corr_RF.append(reward)"
   ]
  },
  {
   "cell_type": "code",
   "execution_count": 19,
   "metadata": {},
   "outputs": [
    {
     "name": "stderr",
     "output_type": "stream",
     "text": [
      "100%|██████████| 5/5 [00:00<00:00, 13.13it/s]\n"
     ]
    }
   ],
   "source": [
    "results_boruta_corr_XGB = []\n",
    "for _ in tqdm(range(5)):\n",
    "    model_xgboost = xgb.XGBClassifier(n_estimators=100, n_jobs=-1, max_depth=2, random_state=0)\n",
    "    \n",
    "    X_train,X_val, y_train, y_val = train_test_split(X, y, test_size=0.2)\n",
    "    X_train_boruta = X_train.iloc[:, selection_with_corr.support_]\n",
    "    X_val_boruta = X_val.iloc[:, selection_with_corr.support_]\n",
    "\n",
    "    model_xgboost.fit(X_train_boruta, y_train)\n",
    "    y_pred = model_xgboost.predict_proba(X_val_boruta)\n",
    "    reward = calculate_score(X_train_boruta.shape[1]-1, y_pred, y_val)\n",
    "    results_boruta_corr_XGB.append(reward)"
   ]
  },
  {
   "cell_type": "markdown",
   "metadata": {},
   "source": [
    "## Without correlation"
   ]
  },
  {
   "cell_type": "code",
   "execution_count": 21,
   "metadata": {},
   "outputs": [
    {
     "name": "stdout",
     "output_type": "stream",
     "text": [
      "Iteration: 1 / 100\n",
      "Iteration: 2 / 100\n",
      "Iteration: 3 / 100\n",
      "Iteration: 4 / 100\n",
      "Iteration: 5 / 100\n",
      "Iteration: 6 / 100\n",
      "Iteration: 7 / 100\n",
      "Iteration: 8 / 100\n",
      "Iteration: 9 / 100\n",
      "Iteration: 10 / 100\n",
      "Iteration: 11 / 100\n",
      "Iteration: 12 / 100\n",
      "Iteration: 13 / 100\n",
      "Iteration: 14 / 100\n",
      "Iteration: 15 / 100\n",
      "Iteration: 16 / 100\n",
      "Iteration: 17 / 100\n",
      "Iteration: 18 / 100\n",
      "Iteration: 19 / 100\n",
      "Iteration: 20 / 100\n",
      "Iteration: 21 / 100\n",
      "Iteration: 22 / 100\n",
      "Iteration: 23 / 100\n",
      "Iteration: 24 / 100\n",
      "Iteration: 25 / 100\n",
      "Iteration: 26 / 100\n",
      "Iteration: 27 / 100\n",
      "Iteration: 28 / 100\n",
      "Iteration: 29 / 100\n",
      "Iteration: 30 / 100\n",
      "Iteration: 31 / 100\n",
      "Iteration: 32 / 100\n",
      "Iteration: 33 / 100\n",
      "Iteration: 34 / 100\n",
      "Iteration: 35 / 100\n",
      "Iteration: 36 / 100\n",
      "Iteration: 37 / 100\n",
      "Iteration: 38 / 100\n",
      "Iteration: 39 / 100\n",
      "Iteration: 40 / 100\n",
      "Iteration: 41 / 100\n",
      "Iteration: 42 / 100\n",
      "Iteration: 43 / 100\n",
      "Iteration: 44 / 100\n",
      "Iteration: 45 / 100\n",
      "Iteration: 46 / 100\n",
      "Iteration: 47 / 100\n",
      "Iteration: 48 / 100\n",
      "Iteration: 49 / 100\n",
      "Iteration: 50 / 100\n",
      "Iteration: 51 / 100\n",
      "Iteration: 52 / 100\n",
      "Iteration: 53 / 100\n",
      "Iteration: 54 / 100\n",
      "Iteration: 55 / 100\n",
      "Iteration: 56 / 100\n",
      "Iteration: 57 / 100\n",
      "Iteration: 58 / 100\n",
      "Iteration: 59 / 100\n",
      "Iteration: 60 / 100\n",
      "Iteration: 61 / 100\n",
      "Iteration: 62 / 100\n",
      "Iteration: 63 / 100\n",
      "Iteration: 64 / 100\n",
      "Iteration: 65 / 100\n",
      "Iteration: 66 / 100\n",
      "Iteration: 67 / 100\n",
      "Iteration: 68 / 100\n",
      "Iteration: 69 / 100\n",
      "Iteration: 70 / 100\n",
      "Iteration: 71 / 100\n",
      "Iteration: 72 / 100\n",
      "Iteration: 73 / 100\n",
      "Iteration: 74 / 100\n",
      "Iteration: 75 / 100\n",
      "Iteration: 76 / 100\n",
      "Iteration: 77 / 100\n",
      "Iteration: 78 / 100\n",
      "Iteration: 79 / 100\n",
      "Iteration: 80 / 100\n",
      "Iteration: 81 / 100\n",
      "Iteration: 82 / 100\n",
      "Iteration: 83 / 100\n",
      "Iteration: 84 / 100\n",
      "Iteration: 85 / 100\n",
      "Iteration: 86 / 100\n",
      "Iteration: 87 / 100\n",
      "Iteration: 88 / 100\n",
      "Iteration: 89 / 100\n",
      "Iteration: 90 / 100\n",
      "Iteration: 91 / 100\n",
      "Iteration: 92 / 100\n",
      "Iteration: 93 / 100\n",
      "Iteration: 94 / 100\n",
      "Iteration: 95 / 100\n",
      "Iteration: 96 / 100\n",
      "Iteration: 97 / 100\n",
      "Iteration: 98 / 100\n",
      "Iteration: 99 / 100\n",
      "\n",
      "\n",
      "BorutaPy finished running.\n",
      "\n",
      "Iteration: \t100 / 100\n",
      "Confirmed: \t9\n",
      "Tentative: \t4\n",
      "Rejected: \t479\n"
     ]
    }
   ],
   "source": [
    "boruta_without_corr = BorutaPy(model_rf, verbose=1)\n",
    "X_train_no_corr, X_val_no_corr, y_train, y_val = train_test_split(X_no_corr, y, test_size=0.2)\n",
    "selection_without_corr = boruta_without_corr.fit(np.array(X_train_no_corr), y_train)"
   ]
  },
  {
   "cell_type": "code",
   "execution_count": 62,
   "metadata": {},
   "outputs": [
    {
     "data": {
      "text/plain": [
       "Index(['0', '2', '100', '101', '102', '103', '104', '105', '285'], dtype='object')"
      ]
     },
     "execution_count": 62,
     "metadata": {},
     "output_type": "execute_result"
    }
   ],
   "source": [
    "X_no_corr.iloc[:, selection_without_corr.support_].columns"
   ]
  },
  {
   "cell_type": "code",
   "execution_count": 22,
   "metadata": {},
   "outputs": [],
   "source": [
    "X_boruta_no_corr = X_no_corr.iloc[:, selection_without_corr.support_]"
   ]
  },
  {
   "cell_type": "code",
   "execution_count": 23,
   "metadata": {},
   "outputs": [
    {
     "name": "stderr",
     "output_type": "stream",
     "text": [
      "100%|██████████| 5/5 [00:01<00:00,  4.54it/s]\n"
     ]
    }
   ],
   "source": [
    "results_boruta_no_corr_RF = []\n",
    "for _ in tqdm(range(5)):\n",
    "    model_rf = RandomForestClassifier(n_estimators=100, n_jobs=-1, max_depth=2, random_state=0)\n",
    "    X_train_boruta_no_corr, X_val_boruta_no_corr, y_train, y_val = train_test_split(X_boruta_no_corr, y, test_size=0.2)\n",
    "    model_rf.fit(X_train_boruta_no_corr, y_train)\n",
    "    y_pred = model_rf.predict_proba(X_val_boruta_no_corr)\n",
    "    reward = calculate_score(X_train_boruta_no_corr.shape[1]-1, y_pred, y_val)\n",
    "    results_boruta_no_corr_RF.append(reward)"
   ]
  },
  {
   "cell_type": "code",
   "execution_count": 30,
   "metadata": {},
   "outputs": [
    {
     "name": "stderr",
     "output_type": "stream",
     "text": [
      "100%|██████████| 5/5 [00:00<00:00, 17.90it/s]\n"
     ]
    }
   ],
   "source": [
    "results_boruta_no_corr_XGB = []\n",
    "for _ in tqdm(range(5)):\n",
    "    model_xgboost = xgb.XGBClassifier(n_estimators=100, n_jobs=-1, max_depth=2, random_state=0)\n",
    "    X_train_boruta_no_corr, X_val_boruta_no_corr, y_train, y_val = train_test_split(X_boruta_no_corr, y, test_size=0.2)\n",
    "    model_xgboost.fit(X_train_boruta_no_corr, y_train)\n",
    "    y_pred = model_xgboost.predict_proba(X_val_boruta_no_corr)\n",
    "    reward = calculate_score(X_train_boruta_no_corr.shape[1]-1, y_pred, y_val)\n",
    "    results_boruta_no_corr_XGB.append(reward)"
   ]
  },
  {
   "cell_type": "markdown",
   "metadata": {},
   "source": [
    "### Without correlation, with SFS"
   ]
  },
  {
   "cell_type": "code",
   "execution_count": 38,
   "metadata": {},
   "outputs": [
    {
     "name": "stderr",
     "output_type": "stream",
     "text": [
      "  0%|          | 0/5 [00:00<?, ?it/s]"
     ]
    },
    {
     "name": "stdout",
     "output_type": "stream",
     "text": [
      "N of features: 8\n",
      "Feature names: ['2', '100', '101', '102', '103', '104', '105', '285']\n",
      "Reward: 5400.0\n",
      "N of features: 7\n",
      "Feature names: ['100', '101', '102', '103', '104', '105', '285']\n",
      "Reward: 5850.0\n",
      "N of features: 6\n",
      "Feature names: ['100', '101', '102', '103', '105', '285']\n",
      "Reward: 5500.0\n",
      "N of features: 5\n",
      "Feature names: ['100', '101', '102', '103', '105']\n",
      "Reward: 6050.0\n",
      "N of features: 4\n",
      "Feature names: ['101', '102', '103', '105']\n",
      "Reward: 5850.0\n",
      "N of features: 3\n",
      "Feature names: ['101', '102', '105']\n",
      "Reward: 6150.0\n",
      "N of features: 2\n",
      "Feature names: ['101', '105']\n",
      "Reward: 6450.0\n"
     ]
    },
    {
     "name": "stderr",
     "output_type": "stream",
     "text": [
      " 20%|██        | 1/5 [00:19<01:16, 19.14s/it]"
     ]
    },
    {
     "name": "stdout",
     "output_type": "stream",
     "text": [
      "N of features: 1\n",
      "Feature names: ['105']\n",
      "Reward: 5950.0\n",
      "N of features: 8\n",
      "Feature names: ['0', '100', '101', '102', '103', '104', '105', '285']\n",
      "Reward: 5500.0\n",
      "N of features: 7\n",
      "Feature names: ['100', '101', '102', '103', '104', '105', '285']\n",
      "Reward: 5400.0\n",
      "N of features: 6\n",
      "Feature names: ['100', '101', '102', '103', '105', '285']\n",
      "Reward: 5600.0\n",
      "N of features: 5\n",
      "Feature names: ['101', '102', '103', '105', '285']\n",
      "Reward: 5750.0\n",
      "N of features: 4\n",
      "Feature names: ['101', '102', '105', '285']\n",
      "Reward: 5800.0\n",
      "N of features: 3\n",
      "Feature names: ['101', '102', '105']\n",
      "Reward: 6200.0\n",
      "N of features: 2\n",
      "Feature names: ['102', '105']\n",
      "Reward: 6100.0\n"
     ]
    },
    {
     "name": "stderr",
     "output_type": "stream",
     "text": [
      " 40%|████      | 2/5 [00:37<00:55, 18.61s/it]"
     ]
    },
    {
     "name": "stdout",
     "output_type": "stream",
     "text": [
      "N of features: 1\n",
      "Feature names: ['102']\n",
      "Reward: 6800.0\n",
      "N of features: 8\n",
      "Feature names: ['2', '100', '101', '102', '103', '104', '105', '285']\n",
      "Reward: 4950.0\n",
      "N of features: 7\n",
      "Feature names: ['2', '100', '101', '102', '103', '104', '105']\n",
      "Reward: 5800.0\n",
      "N of features: 6\n",
      "Feature names: ['100', '101', '102', '103', '104', '105']\n",
      "Reward: 5550.0\n",
      "N of features: 5\n",
      "Feature names: ['100', '102', '103', '104', '105']\n",
      "Reward: 5950.0\n",
      "N of features: 4\n",
      "Feature names: ['102', '103', '104', '105']\n",
      "Reward: 5800.0\n",
      "N of features: 3\n",
      "Feature names: ['103', '104', '105']\n",
      "Reward: 6250.0\n",
      "N of features: 2\n",
      "Feature names: ['103', '105']\n",
      "Reward: 5900.0\n"
     ]
    },
    {
     "name": "stderr",
     "output_type": "stream",
     "text": [
      " 60%|██████    | 3/5 [00:55<00:37, 18.53s/it]"
     ]
    },
    {
     "name": "stdout",
     "output_type": "stream",
     "text": [
      "N of features: 1\n",
      "Feature names: ['105']\n",
      "Reward: 6100.0\n",
      "N of features: 8\n",
      "Feature names: ['0', '2', '100', '101', '102', '103', '104', '105']\n",
      "Reward: 5500.0\n",
      "N of features: 7\n",
      "Feature names: ['2', '100', '101', '102', '103', '104', '105']\n",
      "Reward: 5950.0\n",
      "N of features: 6\n",
      "Feature names: ['100', '101', '102', '103', '104', '105']\n",
      "Reward: 6000.0\n",
      "N of features: 5\n",
      "Feature names: ['100', '101', '102', '103', '105']\n",
      "Reward: 5950.0\n",
      "N of features: 4\n",
      "Feature names: ['100', '101', '102', '105']\n",
      "Reward: 6200.0\n",
      "N of features: 3\n",
      "Feature names: ['100', '101', '105']\n",
      "Reward: 6600.0\n",
      "N of features: 2\n",
      "Feature names: ['100', '105']\n",
      "Reward: 6450.0\n"
     ]
    },
    {
     "name": "stderr",
     "output_type": "stream",
     "text": [
      " 80%|████████  | 4/5 [01:14<00:18, 18.43s/it]"
     ]
    },
    {
     "name": "stdout",
     "output_type": "stream",
     "text": [
      "N of features: 1\n",
      "Feature names: ['105']\n",
      "Reward: 6400.0\n",
      "N of features: 8\n",
      "Feature names: ['2', '100', '101', '102', '103', '104', '105', '285']\n",
      "Reward: 5150.0\n",
      "N of features: 7\n",
      "Feature names: ['2', '100', '102', '103', '104', '105', '285']\n",
      "Reward: 5000.0\n",
      "N of features: 6\n",
      "Feature names: ['2', '100', '102', '103', '104', '285']\n",
      "Reward: 5200.0\n",
      "N of features: 5\n",
      "Feature names: ['2', '100', '102', '103', '285']\n",
      "Reward: 5200.0\n",
      "N of features: 4\n",
      "Feature names: ['2', '100', '102', '103']\n",
      "Reward: 5700.0\n",
      "N of features: 3\n",
      "Feature names: ['100', '102', '103']\n",
      "Reward: 5950.0\n",
      "N of features: 2\n",
      "Feature names: ['100', '102']\n",
      "Reward: 5850.0\n"
     ]
    },
    {
     "name": "stderr",
     "output_type": "stream",
     "text": [
      "100%|██████████| 5/5 [01:32<00:00, 18.48s/it]"
     ]
    },
    {
     "name": "stdout",
     "output_type": "stream",
     "text": [
      "N of features: 1\n",
      "Feature names: ['102']\n",
      "Reward: 6600.0\n"
     ]
    },
    {
     "name": "stderr",
     "output_type": "stream",
     "text": [
      "\n"
     ]
    }
   ],
   "source": [
    "results_boruta_nocorr_RF = []\n",
    "for _ in tqdm(range(5)):\n",
    "    X_train_no_corr, X_val_no_corr, y_train, y_val = train_test_split(X_no_corr, y, test_size=0.2)\n",
    "    results = sfs(model_rf, model_rf, selection_without_corr.support_, X_train_no_corr, X_val_no_corr, y_train, y_val)\n",
    "    results_boruta_nocorr_RF.append(results)"
   ]
  },
  {
   "cell_type": "code",
   "execution_count": 39,
   "metadata": {},
   "outputs": [
    {
     "name": "stderr",
     "output_type": "stream",
     "text": [
      "100%|██████████| 5/5 [01:30<00:00, 18.11s/it]\n"
     ]
    }
   ],
   "source": [
    "results_boruta_nocorr_XGB = []\n",
    "for _ in tqdm(range(5)):\n",
    "    X_train_no_corr, X_val_no_corr, y_train, y_val = train_test_split(X_no_corr, y, test_size=0.2)\n",
    "    results = sfs(model_rf, model_xgboost, selection_without_corr.support_, X_train_no_corr, X_val_no_corr, y_train, y_val, verbose=False)\n",
    "    results_boruta_nocorr_XGB.append(results)"
   ]
  },
  {
   "cell_type": "markdown",
   "metadata": {},
   "source": [
    "### Summary"
   ]
  },
  {
   "cell_type": "code",
   "execution_count": 54,
   "metadata": {},
   "outputs": [
    {
     "name": "stdout",
     "output_type": "stream",
     "text": [
      "[3650.0, 3650.0, 3550.0, 4000.0, 4050.0]\n",
      "3780.0\n",
      "203.9607805437114\n"
     ]
    }
   ],
   "source": [
    "print(results_boruta_corr_RF)\n",
    "print(np.mean(results_boruta_corr_RF))\n",
    "print(np.std(results_boruta_corr_RF))"
   ]
  },
  {
   "cell_type": "code",
   "execution_count": 26,
   "metadata": {},
   "outputs": [
    {
     "data": {
      "text/plain": [
       "[4450.0, 4900.0, 4550.0, 4400.0, 4450.0]"
      ]
     },
     "execution_count": 26,
     "metadata": {},
     "output_type": "execute_result"
    }
   ],
   "source": [
    "print(results_boruta_corr_XGB)\n",
    "print(np.mean(results_boruta_corr_XGB))\n",
    "print(np.std(results_boruta_corr_XGB))"
   ]
  },
  {
   "cell_type": "code",
   "execution_count": 55,
   "metadata": {},
   "outputs": [
    {
     "name": "stdout",
     "output_type": "stream",
     "text": [
      "[5900.0, 5650.0, 5600.0, 4800.0, 5550.0]\n",
      "5500.0\n",
      "370.1351104664349\n"
     ]
    }
   ],
   "source": [
    "print(results_boruta_no_corr_RF)\n",
    "print(np.mean(results_boruta_no_corr_RF))\n",
    "print(np.std(results_boruta_no_corr_RF))"
   ]
  },
  {
   "cell_type": "code",
   "execution_count": 56,
   "metadata": {},
   "outputs": [
    {
     "name": "stdout",
     "output_type": "stream",
     "text": [
      "[6700.0, 6100.0, 5800.0, 6050.0, 6150.0]\n",
      "6160.0\n",
      "295.6349099818897\n"
     ]
    }
   ],
   "source": [
    "print(results_boruta_no_corr_XGB)\n",
    "print(np.mean(results_boruta_no_corr_XGB))\n",
    "print(np.std(results_boruta_no_corr_XGB))"
   ]
  },
  {
   "cell_type": "code",
   "execution_count": 57,
   "metadata": {},
   "outputs": [
    {
     "data": {
      "image/png": "[encoded data removed]",
      "text/plain": [
       "<Figure size 640x480 with 1 Axes>"
      ]
     },
     "metadata": {},
     "output_type": "display_data"
    }
   ],
   "source": [
    "means = np.mean(results_boruta_nocorr_RF, axis=0)\n",
    "std = np.std(results_boruta_nocorr_RF, axis=0)\n",
    "# results_dict[\"scores_list_xgboost_rfe_means\"] = means\n",
    "# results_dict[\"scores_list_xgboost_rfe_std\"] = std\n",
    "n_features_list = [8, 7, 6, 5, 4, 3, 2, 1]\n",
    "plot_scores_2(n_features_list, means, std, color=\"green\", plot_title=\"Boruta+SFS, Random Forest, correlated features removed\")"
   ]
  },
  {
   "cell_type": "code",
   "execution_count": 58,
   "metadata": {},
   "outputs": [
    {
     "name": "stdout",
     "output_type": "stream",
     "text": [
      "[5300. 5600. 5570. 5780. 5870. 6230. 6150. 6370.]\n",
      "[216.79483389 353.55339059 256.1249695  305.94117082 172.04650534\n",
      " 211.18712082 258.84358211 312.40998704]\n"
     ]
    }
   ],
   "source": [
    "print(means)\n",
    "print(std)"
   ]
  },
  {
   "cell_type": "code",
   "execution_count": 59,
   "metadata": {},
   "outputs": [
    {
     "data": {
      "image/png": "[encoded data removed]",
      "text/plain": [
       "<Figure size 640x480 with 1 Axes>"
      ]
     },
     "metadata": {},
     "output_type": "display_data"
    }
   ],
   "source": [
    "means = np.mean(results_boruta_nocorr_XGB, axis=0)\n",
    "std = np.std(results_boruta_nocorr_XGB, axis=0)\n",
    "# results_dict[\"scores_list_xgboost_rfe_means\"] = means\n",
    "# results_dict[\"scores_list_xgboost_rfe_std\"] = std\n",
    "n_features_list = [8, 7, 6, 5, 4, 3, 2, 1]\n",
    "plot_scores_2(n_features_list, means, std, color=\"red\", plot_title=\"Boruta+SFS, XGBoost, correlated features removed\")"
   ]
  },
  {
   "cell_type": "code",
   "execution_count": 60,
   "metadata": {},
   "outputs": [
    {
     "name": "stdout",
     "output_type": "stream",
     "text": [
      "[6040. 6150. 6560. 6550. 6360. 6360. 6360. 5800.]\n",
      "[171.46428199 187.08286934 168.52299546 181.65902125 241.66091947\n",
      " 177.20045147 307.24582991 303.31501776]\n"
     ]
    }
   ],
   "source": [
    "print(means)\n",
    "print(std)"
   ]
  }
 ],
 "metadata": {
  "kernelspec": {
   "display_name": "advML",
   "language": "python",
   "name": "python3"
  },
  "language_info": {
   "codemirror_mode": {
    "name": "ipython",
    "version": 3
   },
   "file_extension": ".py",
   "mimetype": "text/x-python",
   "name": "python",
   "nbconvert_exporter": "python",
   "pygments_lexer": "ipython3",
   "version": "3.12.2"
  }
 },
 "nbformat": 4,
 "nbformat_minor": 2
}
