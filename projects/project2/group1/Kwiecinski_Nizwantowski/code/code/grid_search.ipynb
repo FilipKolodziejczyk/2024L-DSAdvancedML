{
 "cells": [
  {
   "cell_type": "markdown",
   "metadata": {},
   "source": [
    "# Summary of different grid searches"
   ]
  },
  {
   "cell_type": "code",
   "execution_count": 5,
   "metadata": {},
   "outputs": [],
   "source": [
    "import sys\n",
    "sys.path.append('..')\n",
    "\n",
    "from metrics import default_competition_metric\n",
    "from metrics import make_competition_scorer, competition_scoring, ColumnSelector\n",
    "\n",
    "\n",
    "import numpy as np\n",
    "import pandas as pd\n",
    "\n",
    "import xgboost as xgb\n",
    "from sklearn.ensemble import RandomForestClassifier\n",
    "from sklearn.svm import SVC\n",
    "from sklearn.preprocessing import StandardScaler\n",
    "\n",
    "np.random.seed(44)"
   ]
  },
  {
   "cell_type": "code",
   "execution_count": 6,
   "metadata": {},
   "outputs": [],
   "source": [
    "boruta_features = np.array([0, 1, 2, 3, 4, 5, 6, 7, 8, 9, 100, 101, 102, 103, 104, 105])\n",
    "\n",
    "small_mrmr_features = np.array([100, 102, 105,403, 466])\n",
    "\n",
    "nsc_features = np.array([ 75, 403, 409, 412, 458, 466, 471, 481, 489, 498])"
   ]
  },
  {
   "cell_type": "markdown",
   "metadata": {},
   "source": [
    "## XGboost"
   ]
  },
  {
   "cell_type": "code",
   "execution_count": 7,
   "metadata": {},
   "outputs": [],
   "source": [
    "X_train = np.load('../data/x_train.npy')\n",
    "y_train = np.load('../data/y_train.npy')\n",
    "X_val = np.load('../data/x_val.npy')\n",
    "y_val = np.load('../data/y_val.npy')\n"
   ]
  },
  {
   "cell_type": "code",
   "execution_count": 8,
   "metadata": {},
   "outputs": [
    {
     "data": {
      "text/plain": [
       "5800.0"
      ]
     },
     "execution_count": 8,
     "metadata": {},
     "output_type": "execute_result"
    }
   ],
   "source": [
    "from sklearn.pipeline import Pipeline\n",
    "from sklearn.preprocessing import StandardScaler\n",
    "from sklearn.model_selection import GridSearchCV, RandomizedSearchCV, StratifiedKFold\n",
    "from sklearn.feature_selection import RFECV\n",
    "from sklearn.compose import ColumnTransformer\n",
    "\n",
    "# pipeline\n",
    "pipe = Pipeline([\n",
    "    (\"feature_selection\", ColumnSelector(columns = [100, 101])),\n",
    "    ('scaler', StandardScaler()),\n",
    "    ('model', xgb.XGBClassifier(n_estimators=1000, max_depth=5, verbosity=2, random_state=44))\n",
    "])\n",
    "\n",
    "\n",
    "pipe.fit(X_train, y_train)\n",
    "\n",
    "y_proba = pipe.predict_proba(X_val)[:, 1]\n",
    "default_competition_metric(y_val, k=2, y_pred_proba=y_proba)"
   ]
  },
  {
   "cell_type": "code",
   "execution_count": 21,
   "metadata": {},
   "outputs": [],
   "source": [
    "pipe = Pipeline([\n",
    "    (\"feature_selection\", ColumnSelector()),\n",
    "    ('scaler', StandardScaler()),\n",
    "    ('model', xgb.XGBClassifier(n_estimators=1000, max_depth=5, verbosity=2, random_state=44))\n",
    "])"
   ]
  },
  {
   "cell_type": "code",
   "execution_count": 22,
   "metadata": {},
   "outputs": [
    {
     "data": {
      "text/plain": [
       "6900.0"
      ]
     },
     "execution_count": 22,
     "metadata": {},
     "output_type": "execute_result"
    }
   ],
   "source": [
    "best_params_boruta_xgboost = {'model__n_estimators': 1000, 'model__max_depth': 3, 'model__learning_rate': 0.01, 'model__colsample_bytree': 0.75, 'feature_selection__columns': [5, 100, 101, 105]}\n",
    "\n",
    "pipe.set_params(**best_params_boruta_xgboost)\n",
    "pipe.fit(X_train, y_train)\n",
    "competition_scoring(pipe, X_val, y_val)"
   ]
  },
  {
   "cell_type": "code",
   "execution_count": 23,
   "metadata": {},
   "outputs": [
    {
     "data": {
      "text/plain": [
       "6900.0"
      ]
     },
     "execution_count": 23,
     "metadata": {},
     "output_type": "execute_result"
    }
   ],
   "source": [
    "best_params_mrmr_xgboost = {'model__n_estimators': 1000, 'model__max_depth': 3, 'model__learning_rate': 0.01, 'model__colsample_bytree': 1, 'feature_selection__columns': [100, 102, 105]}\n",
    "\n",
    "pipe.set_params(**best_params_mrmr_xgboost)\n",
    "pipe.fit(X_train, y_train)\n",
    "\n",
    "competition_scoring(pipe, X_val, y_val)"
   ]
  },
  {
   "cell_type": "code",
   "execution_count": 10,
   "metadata": {},
   "outputs": [
    {
     "data": {
      "text/plain": [
       "5449.999999999999"
      ]
     },
     "execution_count": 10,
     "metadata": {},
     "output_type": "execute_result"
    }
   ],
   "source": [
    "best_params_nsc_xgboost = {'model__n_estimators': 100, 'model__max_depth': 3, 'model__learning_rate': 0.01, 'model__colsample_bytree': 0.75, 'feature_selection__columns': [412]}\n",
    "\n",
    "\n",
    "pipe.set_params(**best_params_nsc_xgboost)\n",
    "pipe.fit(X_train, y_train)\n",
    "\n",
    "competition_scoring(pipe, X_val, y_val)"
   ]
  },
  {
   "cell_type": "markdown",
   "metadata": {},
   "source": [
    "## SVM"
   ]
  },
  {
   "cell_type": "code",
   "execution_count": 11,
   "metadata": {},
   "outputs": [],
   "source": [
    "\n",
    "\n",
    "pipe = Pipeline([\n",
    "    (\"feature_selection\", ColumnSelector()),\n",
    "    ('scaler', StandardScaler()),\n",
    "    ('model', SVC(probability=True, random_state=44))\n",
    "])"
   ]
  },
  {
   "cell_type": "code",
   "execution_count": 12,
   "metadata": {},
   "outputs": [
    {
     "data": {
      "text/plain": [
       "4500.0"
      ]
     },
     "execution_count": 12,
     "metadata": {},
     "output_type": "execute_result"
    }
   ],
   "source": [
    "nsc_features_svm = {'model__kernel': 'rbf', 'model__gamma': 0.001, 'model__C': 10, 'feature_selection__columns': [466, 498]}\n",
    "\n",
    "\n",
    "pipe.set_params(**nsc_features_svm)\n",
    "\n",
    "pipe.fit(X_train, y_train)\n",
    "\n",
    "competition_scoring(pipe, X_val, y_val)"
   ]
  },
  {
   "cell_type": "code",
   "execution_count": 13,
   "metadata": {},
   "outputs": [
    {
     "data": {
      "text/plain": [
       "6300.0"
      ]
     },
     "execution_count": 13,
     "metadata": {},
     "output_type": "execute_result"
    }
   ],
   "source": [
    "best_params_boruta_svm = {'model__kernel': 'rbf', 'model__gamma': 0.1, 'model__C': 0.1, 'feature_selection__columns': [1, 8, 100, 101, 103, 105]}\n",
    "\n",
    "\n",
    "pipe.set_params(**best_params_boruta_svm)\n",
    "pipe.fit(X_train, y_train)\n",
    "competition_scoring(pipe, X_val, y_val)"
   ]
  },
  {
   "cell_type": "code",
   "execution_count": 14,
   "metadata": {},
   "outputs": [
    {
     "data": {
      "text/plain": [
       "6650.0"
      ]
     },
     "execution_count": 14,
     "metadata": {},
     "output_type": "execute_result"
    }
   ],
   "source": [
    "best_params_mrmr_xgboost = {'model__kernel': 'rbf', 'model__gamma': 1, 'model__C': 10, 'feature_selection__columns': [100, 102, 105]}\n",
    "\n",
    "pipe.set_params(**best_params_mrmr_xgboost)\n",
    "\n",
    "pipe.fit(X_train, y_train)\n",
    "\n",
    "y_proba = pipe.predict_proba(X_val)[:, 1]\n",
    "competition_scoring(pipe, X_val, y_val, scale_metric=True)"
   ]
  },
  {
   "cell_type": "markdown",
   "metadata": {},
   "source": [
    "## Random Forest"
   ]
  },
  {
   "cell_type": "code",
   "execution_count": 9,
   "metadata": {},
   "outputs": [],
   "source": [
    "\n",
    "pipe = Pipeline([\n",
    "    (\"feature_selection\", ColumnSelector()),\n",
    "    ('scaler', StandardScaler()),\n",
    "    ('model', RandomForestClassifier(n_estimators=1000, random_state=44))\n",
    "])"
   ]
  },
  {
   "cell_type": "code",
   "execution_count": 12,
   "metadata": {},
   "outputs": [
    {
     "data": {
      "text/plain": [
       "6400.0"
      ]
     },
     "execution_count": 12,
     "metadata": {},
     "output_type": "execute_result"
    }
   ],
   "source": [
    "best_params_boruta_rf = {'model__n_estimators': 1500, 'model__min_samples_split': 5, 'model__min_samples_leaf': 1, 'model__max_features': 'sqrt', 'model__max_depth': 10, 'model__bootstrap': True, 'feature_selection__columns': [5, 100, 103]}\n",
    "\n",
    "pipe.set_params(**best_params_boruta_rf)\n",
    "pipe.fit(X_train, y_train)\n",
    "competition_scoring(pipe, X_val, y_val)"
   ]
  },
  {
   "cell_type": "code",
   "execution_count": 13,
   "metadata": {},
   "outputs": [
    {
     "data": {
      "text/plain": [
       "6650.0"
      ]
     },
     "execution_count": 13,
     "metadata": {},
     "output_type": "execute_result"
    }
   ],
   "source": [
    "best_params_mrmr_rf = {'model__n_estimators': 1000, 'model__min_samples_split': 10, 'model__min_samples_leaf': 4, 'model__max_features': 'sqrt', 'model__max_depth': 20, 'model__bootstrap': False, 'feature_selection__columns': [100, 102, 105]}\n",
    "\n",
    "\n",
    "\n",
    "pipe.set_params(**best_params_mrmr_rf)\n",
    "pipe.fit(X_train, y_train)\n",
    "competition_scoring(pipe, X_val, y_val)"
   ]
  },
  {
   "cell_type": "code",
   "execution_count": 18,
   "metadata": {},
   "outputs": [
    {
     "data": {
      "text/plain": [
       "4000.0"
      ]
     },
     "execution_count": 18,
     "metadata": {},
     "output_type": "execute_result"
    }
   ],
   "source": [
    "best_params_rf_nsc = {'model__n_estimators': 400, 'model__min_samples_split': 2, 'model__min_samples_leaf': 2, 'model__max_features': 'sqrt', 'model__max_depth': 10, 'model__bootstrap': True, 'feature_selection__columns': [409, 471, 481]}\n",
    "\n",
    "pipe.set_params(**best_params_rf_nsc)\n",
    "pipe.fit(X_train, y_train)\n",
    "competition_scoring(pipe, X_val, y_val)"
   ]
  },
  {
   "cell_type": "code",
   "execution_count": null,
   "metadata": {},
   "outputs": [],
   "source": []
  }
 ],
 "metadata": {
  "kernelspec": {
   "display_name": ".venv",
   "language": "python",
   "name": "python3"
  },
  "language_info": {
   "codemirror_mode": {
    "name": "ipython",
    "version": 3
   },
   "file_extension": ".py",
   "mimetype": "text/x-python",
   "name": "python",
   "nbconvert_exporter": "python",
   "pygments_lexer": "ipython3",
   "version": "3.12.2"
  }
 },
 "nbformat": 4,
 "nbformat_minor": 2
}
