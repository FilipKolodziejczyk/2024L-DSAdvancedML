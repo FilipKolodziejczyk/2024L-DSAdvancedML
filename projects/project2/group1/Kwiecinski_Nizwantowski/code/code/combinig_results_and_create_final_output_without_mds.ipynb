{
 "cells": [
  {
   "cell_type": "code",
   "execution_count": 1,
   "metadata": {},
   "outputs": [],
   "source": [
    "import sys\n",
    "\n",
    "sys.path.append(\"..\")\n",
    "\n",
    "import numpy as np\n",
    "import pandas as pd\n",
    "import xgboost as xgb\n",
    "from sklearn.svm import SVC\n",
    "from sklearn.ensemble import RandomForestClassifier\n",
    "from sklearn.manifold import MDS\n",
    "\n",
    "from metrics import default_competition_metric"
   ]
  },
  {
   "cell_type": "code",
   "execution_count": 2,
   "metadata": {},
   "outputs": [],
   "source": [
    "np.random.seed(3666)"
   ]
  },
  {
   "cell_type": "code",
   "execution_count": 3,
   "metadata": {},
   "outputs": [],
   "source": [
    "X_train = np.load(\"../data/x_train.npy\")\n",
    "y_train = np.load(\"../data/y_train.npy\")\n",
    "X_val = np.load(\"../data/x_val.npy\")\n",
    "y_val = np.load(\"../data/y_val.npy\")"
   ]
  },
  {
   "cell_type": "markdown",
   "metadata": {},
   "source": [
    "# Actual model\n",
    "testing on features [100, 102, 103, 105]"
   ]
  },
  {
   "cell_type": "code",
   "execution_count": 4,
   "metadata": {},
   "outputs": [],
   "source": [
    "rf_params = {\n",
    "    \"n_estimators\": 1600,\n",
    "    \"min_samples_split\": 2,\n",
    "    \"min_samples_leaf\": 4,\n",
    "    \"max_features\": \"log2\",\n",
    "    \"max_depth\": 10,\n",
    "    \"bootstrap\": False,\n",
    "}\n",
    "svm_params = {\n",
    "    'kernel': 'rbf',\n",
    "    'gamma': 0.01,\n",
    "    'C': 1,\n",
    "}\n",
    "xgboost_params = {\n",
    "    'n_estimators': 1000,\n",
    "    'max_depth': 3,\n",
    "    'learning_rate': 0.01,\n",
    "    'colsample_bytree': 0.75,\n",
    "}\n",
    "features = [100, 102, 103, 105]"
   ]
  },
  {
   "cell_type": "code",
   "execution_count": 5,
   "metadata": {},
   "outputs": [],
   "source": [
    "X_train = X_train[:, features]\n",
    "X_val = X_val[:, features]\n",
    "number_of_features = len(features)"
   ]
  },
  {
   "cell_type": "code",
   "execution_count": 6,
   "metadata": {},
   "outputs": [],
   "source": [
    "train_set_X = X_train\n",
    "train_set_y = y_train\n",
    "val_set_X = X_val\n",
    "val_set_y = y_val"
   ]
  },
  {
   "cell_type": "markdown",
   "metadata": {},
   "source": [
    "### testing on cv"
   ]
  },
  {
   "cell_type": "code",
   "execution_count": 9,
   "metadata": {},
   "outputs": [
    {
     "name": "stdout",
     "output_type": "stream",
     "text": [
      "XGBoost:  6772.222222222223 81.38936291102006\n",
      "SVM:  6927.777777777777 46.68815642769892\n",
      "RF:  6341.666666666667 115.16895800904378\n",
      "Ensemble:  6766.666666666667 62.36095644623236\n"
     ]
    }
   ],
   "source": [
    "seeds = [21, 22, 23, 24, 25, 5111, 23525, 34934, 343243]\n",
    "rf_results = []\n",
    "svm_results = []\n",
    "xgboost_results = []\n",
    "ensemble_results = []\n",
    "\n",
    "for num, seed in enumerate(seeds):\n",
    "    cv_folds = 5\n",
    "    np.random.seed(seed)\n",
    "    idx = np.array(range(X_train.shape[0]))\n",
    "    np.random.shuffle(idx)\n",
    "    rf = []\n",
    "    svm = []\n",
    "    xgboost = []\n",
    "    ensemble = []\n",
    "\n",
    "    idx = idx % cv_folds\n",
    "    for j in range(cv_folds):\n",
    "        X_train_cv = train_set_X[idx != j]\n",
    "        X_val_cv = train_set_X[idx == j]\n",
    "        y_train_cv = y_train[idx != j]\n",
    "        y_val_cv = y_train[idx == j]\n",
    "\n",
    "        model1 = xgb.XGBClassifier(**xgboost_params)\n",
    "        model1.fit(X_train_cv, y_train_cv)\n",
    "\n",
    "        model2 = SVC(probability=True, **svm_params)\n",
    "        model2.fit(X_train_cv, y_train_cv)\n",
    "\n",
    "        model3 = RandomForestClassifier(**rf_params)\n",
    "        model3.fit(X_train_cv, y_train_cv)\n",
    "\n",
    "        predictions1 = model1.predict_proba(X_val_cv)[:, 1]\n",
    "        predictions2 = model2.predict_proba(X_val_cv)[:, 1]\n",
    "        predictions3 = model3.predict_proba(X_val_cv)[:, 1]\n",
    "        final_predictions_proba = (predictions1 + predictions2 + predictions3) / 3\n",
    "\n",
    "        xgboost.append(\n",
    "            default_competition_metric(\n",
    "                y_val_cv, y_pred_proba=predictions1, k=number_of_features\n",
    "            )\n",
    "        )\n",
    "        svm.append(\n",
    "            default_competition_metric(\n",
    "                y_val_cv, y_pred_proba=predictions2, k=number_of_features\n",
    "            )\n",
    "        )\n",
    "        rf.append(\n",
    "            default_competition_metric(\n",
    "                y_val_cv, y_pred_proba=predictions3, k=number_of_features\n",
    "            )\n",
    "        )\n",
    "        ensemble.append(\n",
    "            default_competition_metric(\n",
    "                y_val_cv, y_pred_proba=final_predictions_proba, k=number_of_features\n",
    "            )\n",
    "        )\n",
    "\n",
    "    xgboost_results.append(np.mean(xgboost))\n",
    "    svm_results.append(np.mean(svm))\n",
    "    rf_results.append(np.mean(rf))\n",
    "    ensemble_results.append(np.mean(ensemble))\n",
    "\n",
    "\n",
    "print(\"XGBoost: \", np.mean(xgboost_results), np.std(xgboost_results))\n",
    "print(\"SVM: \", np.mean(svm_results), np.std(svm_results))\n",
    "print(\"RF: \", np.mean(rf_results), np.std(rf_results))\n",
    "print(\"Ensemble: \", np.mean(ensemble_results), np.std(ensemble_results))"
   ]
  },
  {
   "cell_type": "markdown",
   "metadata": {},
   "source": [
    "### testing on validation set"
   ]
  },
  {
   "cell_type": "code",
   "execution_count": 10,
   "metadata": {},
   "outputs": [
    {
     "name": "stdout",
     "output_type": "stream",
     "text": [
      "xgb score on validation set: 6400.0\n",
      "svm score on validation set: 6750.0\n",
      "rf score on validation set: 6300.0\n",
      "Ensemble score on validation set: 6500.0\n"
     ]
    }
   ],
   "source": [
    "model1 = xgb.XGBClassifier(**xgboost_params)\n",
    "model1.fit(train_set_X, train_set_y)\n",
    "\n",
    "model2 = SVC(probability=True, **svm_params)\n",
    "model2.fit(train_set_X, train_set_y)\n",
    "\n",
    "model3 = RandomForestClassifier(**rf_params)\n",
    "model3.fit(train_set_X, train_set_y)\n",
    "\n",
    "# Make predictions on the validation set\n",
    "predictions1 = model1.predict_proba(val_set_X)[:, 1]\n",
    "predictions2 = model2.predict_proba(val_set_X)[:, 1]\n",
    "predictions3 = model3.predict_proba(val_set_X)[:, 1]\n",
    "\n",
    "# Combine the predictions\n",
    "final_predictions_proba = (predictions1 + predictions2 + predictions3) / 3\n",
    "final_score = default_competition_metric(\n",
    "    y_val, y_pred_proba=final_predictions_proba, k=number_of_features\n",
    ")\n",
    "print(\n",
    "    f\"xgb score on validation set: {default_competition_metric(y_val, y_pred_proba=predictions1, k=number_of_features)}\"\n",
    ")\n",
    "print(\n",
    "    f\"svm score on validation set: {default_competition_metric(y_val, y_pred_proba=predictions2, k=number_of_features)}\"\n",
    ")\n",
    "print(\n",
    "    f\"rf score on validation set: {default_competition_metric(y_val, y_pred_proba=predictions3, k=number_of_features)}\"\n",
    ")\n",
    "print(f\"Ensemble score on validation set: {final_score}\")"
   ]
  },
  {
   "cell_type": "markdown",
   "metadata": {},
   "source": [
    "## Actual models\n",
    "testing on features [100, 102, 105]"
   ]
  },
  {
   "cell_type": "code",
   "execution_count": 11,
   "metadata": {},
   "outputs": [],
   "source": [
    "X_train = np.load(\"../data/x_train.npy\")\n",
    "y_train = np.load(\"../data/y_train.npy\")\n",
    "X_val = np.load(\"../data/x_val.npy\")\n",
    "y_val = np.load(\"../data/y_val.npy\")"
   ]
  },
  {
   "cell_type": "code",
   "execution_count": 12,
   "metadata": {},
   "outputs": [],
   "source": [
    "rf_params = {\n",
    "    \"n_estimators\": 1600,\n",
    "    \"min_samples_split\": 2,\n",
    "    \"min_samples_leaf\": 4,\n",
    "    \"max_features\": \"log2\",\n",
    "    \"max_depth\": 10,\n",
    "    \"bootstrap\": False,\n",
    "}\n",
    "svm_params = {\n",
    "    'kernel': 'rbf',\n",
    "    'gamma': 0.01,\n",
    "    'C': 1,\n",
    "}\n",
    "xgboost_params = {\n",
    "    'n_estimators': 1000,\n",
    "    'max_depth': 3,\n",
    "    'learning_rate': 0.01,\n",
    "    'colsample_bytree': 0.75,\n",
    "}\n",
    "features = [100, 102, 105]"
   ]
  },
  {
   "cell_type": "code",
   "execution_count": 13,
   "metadata": {},
   "outputs": [],
   "source": [
    "X_train = X_train[:, features]\n",
    "X_val = X_val[:, features]\n",
    "number_of_features = len(features)"
   ]
  },
  {
   "cell_type": "code",
   "execution_count": 14,
   "metadata": {},
   "outputs": [],
   "source": [
    "train_set_X = X_train\n",
    "train_set_y = y_train\n",
    "val_set_X = X_val\n",
    "val_set_y = y_val"
   ]
  },
  {
   "cell_type": "code",
   "execution_count": 15,
   "metadata": {},
   "outputs": [],
   "source": [
    "train_set_X = np.concatenate([train_set_X], axis=1)\n",
    "val_set_X = np.concatenate([val_set_X], axis=1)"
   ]
  },
  {
   "cell_type": "markdown",
   "metadata": {},
   "source": [
    "### testing on cv"
   ]
  },
  {
   "cell_type": "code",
   "execution_count": 16,
   "metadata": {},
   "outputs": [
    {
     "name": "stdout",
     "output_type": "stream",
     "text": [
      "XGBoost:  6684.722222222223 57.66816525562971\n",
      "SVM:  6797.222222222223 60.88975060217493\n",
      "RF:  6572.222222222223 76.09793073223736\n",
      "Ensemble:  6736.111111111111 50.49905267416067\n"
     ]
    }
   ],
   "source": [
    "seeds = [21, 22, 23, 24, 25, 5111, 23525, 34934, 343243]\n",
    "rf_results = []\n",
    "svm_results = []\n",
    "xgboost_results = []\n",
    "ensemble_results = []\n",
    "\n",
    "for num, seed in enumerate(seeds):\n",
    "    cv_folds = 5\n",
    "    np.random.seed(seed)\n",
    "    idx = np.array(range(X_train.shape[0]))\n",
    "    np.random.shuffle(idx)\n",
    "    rf = []\n",
    "    svm = []\n",
    "    xgboost = []\n",
    "    ensemble = []\n",
    "\n",
    "    idx = idx % cv_folds\n",
    "    for j in range(cv_folds):\n",
    "        X_train_cv = train_set_X[idx != j]\n",
    "        X_val_cv = train_set_X[idx == j]\n",
    "        y_train_cv = y_train[idx != j]\n",
    "        y_val_cv = y_train[idx == j]\n",
    "\n",
    "        model1 = xgb.XGBClassifier(**xgboost_params)\n",
    "        model1.fit(X_train_cv, y_train_cv)\n",
    "\n",
    "        model2 = SVC(probability=True, **svm_params)\n",
    "        model2.fit(X_train_cv, y_train_cv)\n",
    "\n",
    "        model3 = RandomForestClassifier(**rf_params)\n",
    "        model3.fit(X_train_cv, y_train_cv)\n",
    "\n",
    "        predictions1 = model1.predict_proba(X_val_cv)[:, 1]\n",
    "        predictions2 = model2.predict_proba(X_val_cv)[:, 1]\n",
    "        predictions3 = model3.predict_proba(X_val_cv)[:, 1]\n",
    "        final_predictions_proba = (predictions1 + predictions2 + predictions3) / 3\n",
    "\n",
    "        xgboost.append(\n",
    "            default_competition_metric(\n",
    "                y_val_cv, y_pred_proba=predictions1, k=number_of_features\n",
    "            )\n",
    "        )\n",
    "        svm.append(\n",
    "            default_competition_metric(\n",
    "                y_val_cv, y_pred_proba=predictions2, k=number_of_features\n",
    "            )\n",
    "        )\n",
    "        rf.append(\n",
    "            default_competition_metric(\n",
    "                y_val_cv, y_pred_proba=predictions3, k=number_of_features\n",
    "            )\n",
    "        )\n",
    "        ensemble.append(\n",
    "            default_competition_metric(\n",
    "                y_val_cv, y_pred_proba=final_predictions_proba, k=number_of_features\n",
    "            )\n",
    "        )\n",
    "\n",
    "    xgboost_results.append(np.mean(xgboost))\n",
    "    svm_results.append(np.mean(svm))\n",
    "    rf_results.append(np.mean(rf))\n",
    "    ensemble_results.append(np.mean(ensemble))\n",
    "\n",
    "\n",
    "print(\"XGBoost: \", np.mean(xgboost_results), np.std(xgboost_results))\n",
    "print(\"SVM: \", np.mean(svm_results), np.std(svm_results))\n",
    "print(\"RF: \", np.mean(rf_results), np.std(rf_results))\n",
    "print(\"Ensemble: \", np.mean(ensemble_results), np.std(ensemble_results))"
   ]
  },
  {
   "cell_type": "markdown",
   "metadata": {},
   "source": [
    "### testing on validation set"
   ]
  },
  {
   "cell_type": "code",
   "execution_count": 17,
   "metadata": {},
   "outputs": [
    {
     "name": "stdout",
     "output_type": "stream",
     "text": [
      "xgb score on validation set: 6850.0\n",
      "svm score on validation set: 7000.0\n",
      "rf score on validation set: 6800.0\n",
      "Ensemble score on validation set: 7100.0\n"
     ]
    }
   ],
   "source": [
    "model1 = xgb.XGBClassifier(**xgboost_params)\n",
    "model1.fit(train_set_X, train_set_y)\n",
    "\n",
    "model2 = SVC(probability=True, **svm_params)\n",
    "model2.fit(train_set_X, train_set_y)\n",
    "\n",
    "model3 = RandomForestClassifier(**rf_params)\n",
    "model3.fit(train_set_X, train_set_y)\n",
    "\n",
    "# Make predictions on the validation set\n",
    "predictions1 = model1.predict_proba(val_set_X)[:, 1]\n",
    "predictions2 = model2.predict_proba(val_set_X)[:, 1]\n",
    "predictions3 = model3.predict_proba(val_set_X)[:, 1]\n",
    "\n",
    "# Combine the predictions\n",
    "final_predictions_proba = (predictions1 + predictions2 + predictions3) / 3\n",
    "final_score = default_competition_metric(\n",
    "    y_val, y_pred_proba=final_predictions_proba, k=number_of_features\n",
    ")\n",
    "print(\n",
    "    f\"xgb score on validation set: {default_competition_metric(y_val, y_pred_proba=predictions1, k=number_of_features)}\"\n",
    ")\n",
    "print(\n",
    "    f\"svm score on validation set: {default_competition_metric(y_val, y_pred_proba=predictions2, k=number_of_features)}\"\n",
    ")\n",
    "print(\n",
    "    f\"rf score on validation set: {default_competition_metric(y_val, y_pred_proba=predictions3, k=number_of_features)}\"\n",
    ")\n",
    "print(f\"Ensemble score on validation set: {final_score}\")"
   ]
  },
  {
   "cell_type": "markdown",
   "metadata": {},
   "source": [
    "## Final prediction"
   ]
  },
  {
   "cell_type": "code",
   "execution_count": null,
   "metadata": {},
   "outputs": [],
   "source": [
    "x_train_original = np.loadtxt(\"../data/x_train.txt\")\n",
    "y_train_original = np.loadtxt(\"../data/y_train.txt\")\n",
    "x_test_original = np.loadtxt(\"../data/x_test.txt\")"
   ]
  },
  {
   "cell_type": "code",
   "execution_count": null,
   "metadata": {},
   "outputs": [],
   "source": [
    "x_train_original = x_train_original[:, features]\n",
    "x_test_original = x_test_original[:, features]"
   ]
  },
  {
   "cell_type": "code",
   "execution_count": null,
   "metadata": {},
   "outputs": [],
   "source": [
    "mds = MDS(\n",
    "    n_components=1,\n",
    "    random_state=21,\n",
    "    n_init=6,\n",
    "    normalized_stress=False,\n",
    "    eps=0.0001,\n",
    "    max_iter=600,\n",
    ")\n",
    "train_original_mds = mds.fit_transform(x_train_original)\n",
    "test_original_mds = mds.fit_transform(x_test_original)"
   ]
  },
  {
   "cell_type": "code",
   "execution_count": null,
   "metadata": {},
   "outputs": [],
   "source": [
    "x_train_original_with_mds = np.concatenate(\n",
    "    [x_train_original, train_original_mds], axis=1\n",
    ")\n",
    "x_test_original_with_mds = np.concatenate([x_test_original, test_original_mds], axis=1)"
   ]
  },
  {
   "cell_type": "code",
   "execution_count": null,
   "metadata": {},
   "outputs": [],
   "source": [
    "model1 = xgb.XGBClassifier(**xgboost_params)\n",
    "model1.fit(x_train_original, y_train_original)\n",
    "\n",
    "model2 = SVC(probability=True, **svm_params)\n",
    "model2.fit(x_train_original, y_train_original)\n",
    "\n",
    "model3 = RandomForestClassifier(**rf_params)\n",
    "model3.fit(x_train_original_with_mds, y_train_original)\n",
    "\n",
    "# Make predictions on the validation set\n",
    "predictions1 = model1.predict_proba(x_test_original)[:, 1]\n",
    "predictions2 = model2.predict_proba(x_test_original)[:, 1]\n",
    "predictions3 = model3.predict_proba(x_test_original_with_mds)[:, 1]\n",
    "\n",
    "# Combine the predictions\n",
    "final_predictions_proba = (predictions1 + predictions2 + predictions3) / 3"
   ]
  },
  {
   "cell_type": "code",
   "execution_count": null,
   "metadata": {},
   "outputs": [],
   "source": [
    "n = len(final_predictions_proba)\n",
    "top_02 = np.argsort(final_predictions_proba)[::-1][: n // 5]\n",
    "y_pred = np.zeros(n)\n",
    "y_pred[top_02] = 1"
   ]
  },
  {
   "cell_type": "code",
   "execution_count": null,
   "metadata": {},
   "outputs": [],
   "source": [
    "y_pred"
   ]
  },
  {
   "cell_type": "code",
   "execution_count": null,
   "metadata": {},
   "outputs": [],
   "source": [
    "# this should equal to 1000\n",
    "sum(y_pred)"
   ]
  },
  {
   "cell_type": "code",
   "execution_count": null,
   "metadata": {},
   "outputs": [],
   "source": [
    "def create_submission_file(final_predictions, columns_used):\n",
    "    \"\"\"\n",
    "    final_predictions: binary predictions for the test set\n",
    "    columns_used: list of column indexes used in the models\n",
    "\n",
    "    This function should create a submission file for the test set\n",
    "    \"\"\"\n",
    "    final_predictions = np.where(final_predictions == 1)[0]\n",
    "    final_predictions = final_predictions + 1\n",
    "    columns_used = [val + 1 for val in columns_used]\n",
    "    print(f\"You predicted as positive {len(final_predictions)} samples\")\n",
    "    print(f\"You used: {len(columns_used)} columns\")\n",
    "    pd.DataFrame(final_predictions).to_csv(\"320637_obs.txt\", header=False, index=False)\n",
    "    pd.DataFrame(columns_used).to_csv(\"320637_vars.txt\", header=False, index=False)"
   ]
  },
  {
   "cell_type": "code",
   "execution_count": null,
   "metadata": {},
   "outputs": [],
   "source": [
    "create_submission_file(y_pred, features)"
   ]
  },
  {
   "cell_type": "code",
   "execution_count": null,
   "metadata": {},
   "outputs": [],
   "source": []
  }
 ],
 "metadata": {
  "kernelspec": {
   "display_name": "asseco",
   "language": "python",
   "name": "python3"
  },
  "language_info": {
   "codemirror_mode": {
    "name": "ipython",
    "version": 3
   },
   "file_extension": ".py",
   "mimetype": "text/x-python",
   "name": "python",
   "nbconvert_exporter": "python",
   "pygments_lexer": "ipython3",
   "version": "3.12.2"
  }
 },
 "nbformat": 4,
 "nbformat_minor": 2
}
