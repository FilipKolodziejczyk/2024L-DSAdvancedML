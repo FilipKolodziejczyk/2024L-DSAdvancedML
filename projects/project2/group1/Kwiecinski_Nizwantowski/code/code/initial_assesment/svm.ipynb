{
 "cells": [
  {
   "cell_type": "code",
   "execution_count": 20,
   "metadata": {},
   "outputs": [],
   "source": [
    "import random\n",
    "import numpy as np\n",
    "import matplotlib.pyplot as plt\n",
    "import pandas as pd\n",
    "import os\n",
    "import seaborn as sns\n",
    "from sklearn.model_selection import train_test_split\n",
    "from sklearn.ensemble import RandomForestClassifier\n",
    "from sklearn.svm import SVC\n",
    "from sklearn import set_config\n",
    "\n",
    "set_config(display=\"text\")\n",
    "set_config(print_changed_only=True)\n",
    "\n",
    "\n",
    "random.seed(10)"
   ]
  },
  {
   "cell_type": "code",
   "execution_count": 21,
   "metadata": {},
   "outputs": [],
   "source": [
    "x_train = np.load(\"../../data/x_train.npy\")\n",
    "y_train = np.load(\"../../data/y_train.npy\")\n",
    "\n",
    "\n",
    "train_important = x_train[:, [5, 9, 100, 101, 102, 103, 104, 105]]\n",
    "y = pd.DataFrame(y_train)\n",
    "y = y.values.ravel()"
   ]
  },
  {
   "cell_type": "code",
   "execution_count": 22,
   "metadata": {},
   "outputs": [
    {
     "name": "stdout",
     "output_type": "stream",
     "text": [
      "Accuracy: 0.7260511363636363\n"
     ]
    }
   ],
   "source": [
    "random.seed(423)\n",
    "random_states = [random.randint(0, 10000) for i in range(80)]\n",
    "random_states\n",
    "\n",
    "accuracies_svm_with_interactions = []\n",
    "\n",
    "for random_state in random_states:\n",
    "    X_train, X_test, y_train, y_test = train_test_split(\n",
    "        train_important, y, test_size=0.11, random_state=random_state\n",
    "    )\n",
    "\n",
    "    svm_with_interactions = SVC(kernel=\"poly\", degree=2)\n",
    "    svm_with_interactions.fit(X_train, y_train)\n",
    "    accuracy = svm_with_interactions.score(X_test, y_test)\n",
    "    accuracies_svm_with_interactions.append(accuracy)\n",
    "\n",
    "print(f\"Accuracy: {np.mean(accuracies_svm_with_interactions)}\")"
   ]
  },
  {
   "cell_type": "markdown",
   "metadata": {},
   "source": [
    "0, 2, 3, 4, 5, 6, 8, 9, 100, 101, 102, 103, 104, 105, 403, 466 - 56.7%\n",
    "\n",
    "0, 2, 3, 4, 5, 6, 8, 9, 100, 101, 102, 103, 104, 105, 403, 466 - 60.5%\n",
    "\n",
    "0, 2, 3, 4, 5, 6, 8, 9, 100, 101, 102, 103, 104, 105, 403 - 60.5%\n",
    "\n",
    "0, 2, 3, 4, 5, 6, 8, 9, 100, 101, 102, 103, 104, 105 - 72.5% \n",
    "\n",
    "0, 5, 6, 8, 9, 100, 101, 102, 103, 104, 105 - 72.5%\n",
    "\n",
    "0, 5, 6, 9, 100, 101, 102, 103, 104, 105 - 72.5%\n",
    "\n",
    "0, 5, 9, 100, 101, 102, 103, 104, 105 - 72.4%\n",
    "\n",
    "0, 5, 9, 100, 101, 102, 103, 104, 105, 466 - 58.8%\n",
    "\n",
    "0, 5, 9, 101, 102, 103, 104, 105 - 71.1%\n",
    "\n",
    "0, 5, 9, 100, 102, 103, 104, 105 - 70.1%\n",
    "\n",
    "0, 5, 9, 100, 101, 103, 104, 105 - 68.8%\n",
    "\n",
    "0, 5, 9, 100, 101, 102, 104, 105 - 70.5%\n",
    "\n",
    "0, 5, 9, 100, 101, 102, 103, 105 - 70.1%\n",
    "\n",
    "0, 5, 9, 100, 101, 102, 103, 104 - 68.9%\n",
    "\n",
    "0, 5, 9, 100, 101, 102, 103, 104, 105, 75 - 72.1%\n",
    "\n",
    "0, 5, 9, 100, 101, 102, 103, 104, 105, 220 - 71.9%\n",
    "\n",
    "0, 5, 9, 100, 101, 102, 103, 104, 105, 285 - 71.9%\n",
    "\n",
    "0, 5, 9, 100, 101, 102, 103, 104, 105, 323 - 72.1%\n",
    "\n",
    "**5, 9, 100, 101, 102, 103, 104, 105 - 72.6%**\n",
    "\n",
    "9, 100, 101, 102, 103, 104, 105 - 70.8%\n",
    "\n",
    "5, 100, 101, 102, 103, 104, 105 - 70.6%\n",
    "\n",
    "5, 9, 101, 102, 103, 104, 105 - 69.9%\n",
    "\n",
    "5, 9, 100, 102, 103, 104, 105 - 69.9%\n",
    "\n",
    "5, 9, 100, 101, 103, 104, 105 - 68.8%\n",
    "\n",
    "5, 9, 100, 101, 102, 104, 105 - 70.6%\n",
    "\n",
    "5, 9, 100, 101, 102, 103, 105 - 69.8%\n",
    "\n",
    "5, 9, 100, 101, 102, 103, 104 - 69.1%"
   ]
  },
  {
   "cell_type": "markdown",
   "metadata": {},
   "source": [
    "## What level of final performance expect from 72% acc model"
   ]
  },
  {
   "cell_type": "code",
   "execution_count": 178,
   "metadata": {},
   "outputs": [],
   "source": [
    "x_train = np.load(\"../../data/x_train.npy\")\n",
    "y_train = np.load(\"../../data/y_train.npy\")\n",
    "\n",
    "\n",
    "x_val = np.load(\"../../data/x_val.npy\")\n",
    "y_val = np.load(\"../../data/y_val.npy\")\n",
    "\n",
    "train_important = x_train[:, [102, 103, 105]]\n",
    "val_important = x_val[:, [102, 103, 105]]\n",
    "X_train = train_important"
   ]
  },
  {
   "cell_type": "code",
   "execution_count": 183,
   "metadata": {},
   "outputs": [
    {
     "name": "stdout",
     "output_type": "stream",
     "text": [
      "7025.0 205.39595906443736\n"
     ]
    }
   ],
   "source": [
    "cv_folds = 5\n",
    "np.random.seed(3127)\n",
    "idx = np.array(range(X_train.shape[0]))\n",
    "np.random.shuffle(idx)\n",
    "svm_results = []\n",
    "\n",
    "\n",
    "idx = idx % cv_folds\n",
    "for j in range(cv_folds):\n",
    "    X_train_cv = X_train[idx != j]\n",
    "    y_train_cv = y_train[idx != j]\n",
    "    X_val_cv = X_train[idx == j]\n",
    "    y_val_cv = y_train[idx == j]\n",
    "\n",
    "    svm = SVC(probability=True, random_state=44)\n",
    "    svm.fit(X_train_cv, y_train_cv)\n",
    "\n",
    "    y_pred = svm.predict_proba(X_val_cv)[:, 1]\n",
    "\n",
    "    n = len(y_pred)\n",
    "    top_02 = np.argsort(y_pred)[::-1][: n // 5]\n",
    "    y_pred = np.zeros(n)\n",
    "    y_pred[top_02] = 1\n",
    "\n",
    "    svm_results.append(sum(y_pred.astype(int) & y_val_cv.astype(int)) / sum(y_pred))\n",
    "\n",
    "print(\n",
    "    np.mean(svm_results) * 10000 - len(train_important[0]) * 200,\n",
    "    np.std(svm_results) * 10000,\n",
    ")"
   ]
  },
  {
   "cell_type": "code",
   "execution_count": 184,
   "metadata": {},
   "outputs": [
    {
     "data": {
      "text/plain": [
       "array([[ 0.22400722, -1.47985066, -0.50026472],\n",
       "       [ 2.12799427,  0.23407729,  0.16675664],\n",
       "       [-0.17922693, -0.08115805,  1.4506807 ],\n",
       "       ...,\n",
       "       [-0.58964283,  0.81455566, -0.98207745],\n",
       "       [ 0.04939944, -0.31992458, -1.61985734],\n",
       "       [-1.13389733, -1.07901437, -2.05424687]])"
      ]
     },
     "execution_count": 184,
     "metadata": {},
     "output_type": "execute_result"
    }
   ],
   "source": [
    "X_train"
   ]
  },
  {
   "cell_type": "code",
   "execution_count": null,
   "metadata": {},
   "outputs": [],
   "source": []
  }
 ],
 "metadata": {
  "kernelspec": {
   "display_name": "asseco",
   "language": "python",
   "name": "python3"
  },
  "language_info": {
   "codemirror_mode": {
    "name": "ipython",
    "version": 3
   },
   "file_extension": ".py",
   "mimetype": "text/x-python",
   "name": "python",
   "nbconvert_exporter": "python",
   "pygments_lexer": "ipython3",
   "version": "3.10.4"
  }
 },
 "nbformat": 4,
 "nbformat_minor": 2
}
