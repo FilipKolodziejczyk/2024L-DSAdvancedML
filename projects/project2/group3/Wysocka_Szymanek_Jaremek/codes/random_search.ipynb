{
 "cells": [
  {
   "cell_type": "code",
   "execution_count": 4,
   "metadata": {},
   "outputs": [
    {
     "name": "stdout",
     "output_type": "stream",
     "text": [
      "X shape: (5000, 500)\n",
      "Y shape: (5000,)\n",
      "!!! New best features: [102, 4, 101, 7, 5, 6] with avg score: 5610.0\n",
      "!!! New best features: [100, 2, 8, 0, 103] with avg score: 6020.0\n",
      "!!! New best features: [100, 102, 8, 105] with avg score: 6580.0\n",
      "!!! New best features: [100, 105, 102, 0] with avg score: 6680.0\n",
      "!!! New best features: [103, 102, 8] with avg score: 6790.0\n",
      "!!! New best features: [100, 5, 102] with avg score: 6810.0\n",
      "!!! New best features: [101, 104, 100] with avg score: 7110.0\n",
      "[100, 105, 103, 8] with avg score: 7010.0\n",
      "[102, 100, 104] with avg score: 7070.0\n",
      "[100, 105, 102] with avg score: 7110.0\n",
      "[104, 102, 100, 103] with avg score: 7050.0\n",
      "[102, 101, 103, 104] with avg score: 7040.0\n",
      "[102, 100, 103] with avg score: 7070.0\n",
      "[105, 103, 100, 102] with avg score: 7050.0\n",
      "[104, 105, 103, 101] with avg score: 7040.0\n",
      "[102, 101, 105] with avg score: 7020.0\n",
      "[103, 105, 102] with avg score: 7080.0\n",
      "!!! New best features: [102, 101, 103] with avg score: 7200.0\n",
      "[105, 102, 101] with avg score: 7010.0\n"
     ]
    }
   ],
   "source": [
    "import random\n",
    "\n",
    "import numpy as np\n",
    "\n",
    "from tools import calculate_money\n",
    "\n",
    "\n",
    "def random_column_selection(num_features, min_cols=3, max_cols=7):\n",
    "    num_selected_features = random.randint(min_cols, max_cols)\n",
    "    columns = [0, 1, 2, 3, 4, 5, 6, 7, 8, 100, 101, 102, 103, 104, 105]\n",
    "    selected_features = random.sample(columns, num_selected_features)\n",
    "    return selected_features\n",
    "\n",
    "\n",
    "x_train_path = \"../data/x_train.txt\"\n",
    "y_train_path = \"../data/y_train.txt\"\n",
    "\n",
    "x_data = np.loadtxt(x_train_path, delimiter=\" \")\n",
    "# x_data = x_data[:, [8, 100, 101, 102, 103, 104, 105]]\n",
    "y_data = np.loadtxt(y_train_path, delimiter=\" \")\n",
    "\n",
    "print(\"X shape:\", x_data.shape)\n",
    "print(\"Y shape:\", y_data.shape)\n",
    "\n",
    "iterations = 10_000\n",
    "\n",
    "num_features = x_data.shape[1]\n",
    "best_features = None\n",
    "best_profit = -np.inf\n",
    "\n",
    "history_columns = []\n",
    "\n",
    "for i in range(iterations):\n",
    "    selected_features = random_column_selection(num_features)\n",
    "    \n",
    "    if selected_features in history_columns:\n",
    "        continue\n",
    "    else:\n",
    "        history_columns.append(selected_features)\n",
    "    \n",
    "    profit = calculate_money(selected_features, x_data, y_data, model_name='nb')\n",
    "\n",
    "    if profit > best_profit:\n",
    "        best_profit = profit\n",
    "        best_features = selected_features\n",
    "        print(\"!!! New best features:\", best_features, \"with avg score:\", best_profit)\n",
    "        continue\n",
    "\n",
    "    if profit > 7000:\n",
    "        print(selected_features, \"with avg score:\", profit)\n"
   ]
  },
  {
   "cell_type": "code",
   "execution_count": null,
   "metadata": {},
   "outputs": [],
   "source": []
  }
 ],
 "metadata": {
  "kernelspec": {
   "display_name": "base",
   "language": "python",
   "name": "python3"
  },
  "language_info": {
   "codemirror_mode": {
    "name": "ipython",
    "version": 3
   },
   "file_extension": ".py",
   "mimetype": "text/x-python",
   "name": "python",
   "nbconvert_exporter": "python",
   "pygments_lexer": "ipython3",
   "version": "3.10.12"
  }
 },
 "nbformat": 4,
 "nbformat_minor": 2
}
